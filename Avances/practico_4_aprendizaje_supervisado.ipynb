{
 "cells": [
  {
   "cell_type": "markdown",
   "id": "c6a3fddb-a42e-4f4f-835a-9ff5e3ea76b1",
   "metadata": {},
   "source": [
    "# Aprendizaje Supervisado\n",
    "\n",
    "En la industria del trading algorítmico, las etiquetas para predicción no están del todo claras en un comienzo. Además, el hecho de estar trabajando con series de tiempo complica el trabajo. Vamos a dejar un poco de lado este hecho y vamos a ver si podemos generar características útiles con los datos.\n",
    "\n",
    "Comencemos como en todos los prácticos: descargando los datos con los cuales vamos a trabajar."
   ]
  },
  {
   "cell_type": "code",
   "execution_count": 1,
   "id": "88034e14-ce54-480d-8cc4-2790f6a5c4b0",
   "metadata": {},
   "outputs": [
    {
     "name": "stdout",
     "output_type": "stream",
     "text": [
      "[*********************100%***********************]  1 of 1 completed\n"
     ]
    },
    {
     "data": {
      "text/html": [
       "<div>\n",
       "<style scoped>\n",
       "    .dataframe tbody tr th:only-of-type {\n",
       "        vertical-align: middle;\n",
       "    }\n",
       "\n",
       "    .dataframe tbody tr th {\n",
       "        vertical-align: top;\n",
       "    }\n",
       "\n",
       "    .dataframe thead th {\n",
       "        text-align: right;\n",
       "    }\n",
       "</style>\n",
       "<table border=\"1\" class=\"dataframe\">\n",
       "  <thead>\n",
       "    <tr style=\"text-align: right;\">\n",
       "      <th></th>\n",
       "      <th>Open</th>\n",
       "      <th>High</th>\n",
       "      <th>Low</th>\n",
       "      <th>Close</th>\n",
       "      <th>Adj Close</th>\n",
       "      <th>Volume</th>\n",
       "    </tr>\n",
       "    <tr>\n",
       "      <th>Date</th>\n",
       "      <th></th>\n",
       "      <th></th>\n",
       "      <th></th>\n",
       "      <th></th>\n",
       "      <th></th>\n",
       "      <th></th>\n",
       "    </tr>\n",
       "  </thead>\n",
       "  <tbody>\n",
       "    <tr>\n",
       "      <th>2019-01-02</th>\n",
       "      <td>285.609985</td>\n",
       "      <td>298.869995</td>\n",
       "      <td>282.880005</td>\n",
       "      <td>298.010010</td>\n",
       "      <td>298.010010</td>\n",
       "      <td>349000</td>\n",
       "    </tr>\n",
       "    <tr>\n",
       "      <th>2019-01-03</th>\n",
       "      <td>295.079987</td>\n",
       "      <td>300.500000</td>\n",
       "      <td>289.140015</td>\n",
       "      <td>296.589996</td>\n",
       "      <td>296.589996</td>\n",
       "      <td>564400</td>\n",
       "    </tr>\n",
       "    <tr>\n",
       "      <th>2019-01-04</th>\n",
       "      <td>301.670013</td>\n",
       "      <td>317.970001</td>\n",
       "      <td>301.010010</td>\n",
       "      <td>315.329987</td>\n",
       "      <td>315.329987</td>\n",
       "      <td>606600</td>\n",
       "    </tr>\n",
       "    <tr>\n",
       "      <th>2019-01-07</th>\n",
       "      <td>315.730011</td>\n",
       "      <td>330.890015</td>\n",
       "      <td>315.730011</td>\n",
       "      <td>328.940002</td>\n",
       "      <td>328.940002</td>\n",
       "      <td>467700</td>\n",
       "    </tr>\n",
       "    <tr>\n",
       "      <th>2019-01-08</th>\n",
       "      <td>334.170013</td>\n",
       "      <td>334.989990</td>\n",
       "      <td>317.739990</td>\n",
       "      <td>328.489990</td>\n",
       "      <td>328.489990</td>\n",
       "      <td>500900</td>\n",
       "    </tr>\n",
       "  </tbody>\n",
       "</table>\n",
       "</div>"
      ],
      "text/plain": [
       "                  Open        High         Low       Close   Adj Close  Volume\n",
       "Date                                                                          \n",
       "2019-01-02  285.609985  298.869995  282.880005  298.010010  298.010010  349000\n",
       "2019-01-03  295.079987  300.500000  289.140015  296.589996  296.589996  564400\n",
       "2019-01-04  301.670013  317.970001  301.010010  315.329987  315.329987  606600\n",
       "2019-01-07  315.730011  330.890015  315.730011  328.940002  328.940002  467700\n",
       "2019-01-08  334.170013  334.989990  317.739990  328.489990  328.489990  500900"
      ]
     },
     "execution_count": 1,
     "metadata": {},
     "output_type": "execute_result"
    }
   ],
   "source": [
    "from pandas_datareader import data as pdr\n",
    "import yfinance as yf\n",
    "\n",
    "yf.pdr_override()\n",
    "\n",
    "# Definimos el rango de fechas deseado\n",
    "start_date = '2019-01-01'\n",
    "end_date = '2020-12-31'\n",
    "\n",
    "# Obtenemos un DataFrame\n",
    "df = pdr.get_data_yahoo(\"MELI\", start=start_date, end=end_date)\n",
    "\n",
    "df.head()"
   ]
  },
  {
   "cell_type": "markdown",
   "id": "b8d3cd42-b553-4068-b0a2-20e03f72d15f",
   "metadata": {},
   "source": [
    "### Hagamos Análisis Técnico!\n",
    "\n",
    "El *análisis técnico* es el arte (algunas personas le dicen ciencia) de predecir los movimientos futuros de los activos financieros en base a su comportamiento en el pasado. Como con la predicción del clima, puede no ser preciso, pero quizás pueda dar algunas ideas de cómo se pueden mover ciertos activos y nos permita tomar decisiones de inversión a partir de esto.\n",
    "\n",
    "Vamos a tener ciertas suposiciones claves para hacer con respecto a esto:\n",
    "- **Alta liquidez**: Se asume que las acciones con las que se trabaja tienen un alto volumen de negociación. Si una acción se negocia mucho, es mucho más difícil manipular su precio, por lo que seguiría un curso \"de manual\", si es que se encuentra ese manual...\n",
    "- **No hay cambios artificiales de precios**: Las acciones pagan dividendos (como el cupón de un bono) o, en algunos casos, pueden ser divididas (mediante una acción que se denomina \"split\"). Estas acciones pueden cambiar de manera artificial el precio de una acción. Para poder tener esto en cuenta, es necesario tener el precio de una acción \"ajustado\" por sus movimientos artificiales. Por suerte, nuestra fuente de datos ya soluciona esto.\n",
    "- **No hay \"cisnes negros\"**: El análisis técnico no puede tener en cuenta noticias externas que puedan afectar al desempeño de una acción de manera sorpresiva, como por ejemplo la muerte de su CEO o un ataque terrorista en el que se viera afectada (o tal vez una pandemia).\n",
    "\n",
    "En resumen, el análisis técnico utiliza la información capturada en el precio de un activo para interpretar qué es lo que el mercado dice, para formar una visión del futuro.\n",
    "\n",
    "Claramente, esto puede sonar a chamuyo, pero puede ser algo de qué agarrarse cuando no se tiene mucha más información con la cual trabajar, ya que ha mostrado ser de utilidad en mercados muy grandes, como en EE.UU.\n",
    "\n",
    "Otra cosa a tener en cuenta: Los datos históricos de mercado generan **series de tiempo**, que son un fenómeno un poco lejano a los datos estáticos. En este práctico vamos a probar las herramientas aprendidas en la teoría y ver si pueden tener incidencia a la hora de trabajar con estas series de tiempo.\n",
    "\n",
    "Vamos a hacer todo esto primero con las acciones de Mercado Libre, para tener una idea de cómo se ve, aplicando la librería de pandas `ta` (https://github.com/bukosabino/ta)."
   ]
  },
  {
   "cell_type": "code",
   "execution_count": 2,
   "id": "3f702f9a-82be-4e43-b8e6-d33f38ff3698",
   "metadata": {},
   "outputs": [
    {
     "name": "stdout",
     "output_type": "stream",
     "text": [
      "Requirement already satisfied: ta in /opt/miniconda3/envs/diplo/lib/python3.8/site-packages (0.7.0)\n",
      "Requirement already satisfied: pandas in /opt/miniconda3/envs/diplo/lib/python3.8/site-packages (from ta) (1.2.4)\n",
      "Requirement already satisfied: numpy in /opt/miniconda3/envs/diplo/lib/python3.8/site-packages (from ta) (1.19.2)\n",
      "Requirement already satisfied: python-dateutil>=2.7.3 in /opt/miniconda3/envs/diplo/lib/python3.8/site-packages (from pandas->ta) (2.8.1)\n",
      "Requirement already satisfied: pytz>=2017.3 in /opt/miniconda3/envs/diplo/lib/python3.8/site-packages (from pandas->ta) (2021.1)\n",
      "Requirement already satisfied: six>=1.5 in /opt/miniconda3/envs/diplo/lib/python3.8/site-packages (from python-dateutil>=2.7.3->pandas->ta) (1.15.0)\n"
     ]
    }
   ],
   "source": [
    "!pip install ta"
   ]
  },
  {
   "cell_type": "markdown",
   "id": "f9bebfc0-ba93-4ae8-91e5-fb99fcd61489",
   "metadata": {},
   "source": [
    "# Indicadores Técnicos #\n",
    "\n",
    "La librería tiene varios de los más usados, veamos:\n",
    "\n",
    "- Medias Móviles: Se hace un promedio de los precios anteriores al día que se está tomando. Existen dos de las medias más comunes. La media *simple* (SMA) hace un promedio simple de los precios pasados, mientras que la media *exponencial* (EMA) multiplica cada elemento por un peso que va creciendo de manera exponencial hasta el presente. Aquí el hiperparámetro importante es la cantidad de períodos hacia atrás que se usan en el cálculo. Las medias móviles son indicadores de *tendencia* del precio de un activo (https://www.investopedia.com/terms/m/movingaverage.asp).\n",
    "- Bandas de Bollinger (BB): Indicador de volatilidad, Una vez se tiene la media móvil, se dibuja además un valor de dos desviaciones estándar hacia arriba y hacia abajo del precio del activo (https://en.wikipedia.org/wiki/Bollinger_Bands).\n",
    "- Línea de Acumulación/Distribución (ADL/I): Indicador que utiliza el volumen de venta, junto con los precios del activo. Su fórmula de cálculo se encuentra en https://www.investopedia.com/terms/a/accumulationdistribution.asp. Ayuda a ver cuán fuerte es una tendencia, ya que si un precio sube y este indicador no lo hace, quiere decir que no hay suficiente ímpetu como para mantener la suba y puede volver a bajar.\n",
    "\n",
    "Existen mucho más ejemplos, los cuales están en la documentación y la librería, probemos uno."
   ]
  },
  {
   "cell_type": "code",
   "execution_count": 3,
   "id": "443a6885-e789-43f0-bb5b-d831488ef8b2",
   "metadata": {},
   "outputs": [
    {
     "data": {
      "text/plain": [
       "<AxesSubplot:xlabel='Date'>"
      ]
     },
     "execution_count": 3,
     "metadata": {},
     "output_type": "execute_result"
    },
    {
     "data": {
      "image/png": "[encoded data removed]",
      "text/plain": [
       "<Figure size 1008x648 with 1 Axes>"
      ]
     },
     "metadata": {
      "needs_background": "light"
     },
     "output_type": "display_data"
    }
   ],
   "source": [
    "import ta\n",
    "df[\"ubol\"] = ta.volatility.bollinger_hband(df[\"Adj Close\"], fillna=True)\n",
    "df[\"lbol\"] = ta.volatility.bollinger_lband(df[\"Adj Close\"], fillna=True)\n",
    "df[[\"Adj Close\", \"ubol\", \"lbol\"]].plot(figsize=(14,9))"
   ]
  },
  {
   "cell_type": "markdown",
   "id": "e98e93bc-3f3e-4316-9f9e-479d612b0c38",
   "metadata": {},
   "source": [
    "### Bandas de Bollinger\n",
    "Sirver para  analizar el nivel de volatilidad del precio de un activo en  un período definido. Constan de 3 bandas, siendo la banda del medio la  media móvil simple de los últimos n períodos y la superior e inferior son igual a la de en medio sumando y restando respectivamente x veces la desviación tipica. Siendo normalmente n=20 y x=2\n",
    "\n",
    "- SMA = SUM (n las close values) / n\n",
    "- UB = SMA + (X * StdDev)\n",
    "- LB = SMA - (X * StdDev)"
   ]
  },
  {
   "cell_type": "markdown",
   "id": "5afb6e17-9fad-4c40-a8dc-90dfacd14774",
   "metadata": {},
   "source": [
    "# Backtesting de Estrategias\n",
    "\n",
    "Lo importante aquí es aprender cómo actuar a partir de cada señal que se recibe. Para eso comenzaremos a hacer *backtesting*, es decir, vamos a implementar una estrategia de inversión y la vamos a testear en el pasado, para ver si tiene sentido aplicarla.\n",
    "\n",
    "Por ejemplo, la \"teoría\" de las bandas de Bollinger dice que las señales de compra se emiten cuando el precio está por debajo de la banda inferior y habría que vender el activo cuando el precio se va por encima de la banda superior. Es posible hacer de forma automática la señal de las bandas con la librería `ta`, el ejemplo está en su github. Para juntar información de más de una media móvil se puede usar el indicador MACD.\n",
    "\n",
    "Tenemos que etiquetar nuestros datos si queremos aplicar un poco de aprendizaje supervisado! Para eso, vamos a crear etiquetas simples, para saber si al comprar la acción se ganó dinero. Vamos a tomar el precio de la acción en una fecha y compararlo con el precio en una fecha hacia adelante. Podemos usar una semana, o un mes, o quizás hasta un año. Por ahora, hagamos estrategias diarias y etiquetemos con 1 si, al día siguiente, el precio subió o -1 si el precio bajó."
   ]
  },
  {
   "cell_type": "code",
   "execution_count": 4,
   "id": "8c662256-5872-45f3-8e42-5c924bc280d1",
   "metadata": {},
   "outputs": [
    {
     "data": {
      "text/html": [
       "<div>\n",
       "<style scoped>\n",
       "    .dataframe tbody tr th:only-of-type {\n",
       "        vertical-align: middle;\n",
       "    }\n",
       "\n",
       "    .dataframe tbody tr th {\n",
       "        vertical-align: top;\n",
       "    }\n",
       "\n",
       "    .dataframe thead th {\n",
       "        text-align: right;\n",
       "    }\n",
       "</style>\n",
       "<table border=\"1\" class=\"dataframe\">\n",
       "  <thead>\n",
       "    <tr style=\"text-align: right;\">\n",
       "      <th></th>\n",
       "      <th>Open</th>\n",
       "      <th>High</th>\n",
       "      <th>Low</th>\n",
       "      <th>Close</th>\n",
       "      <th>Adj Close</th>\n",
       "      <th>Volume</th>\n",
       "      <th>ubol</th>\n",
       "      <th>lbol</th>\n",
       "      <th>returns</th>\n",
       "      <th>returns_shift</th>\n",
       "      <th>label</th>\n",
       "    </tr>\n",
       "    <tr>\n",
       "      <th>Date</th>\n",
       "      <th></th>\n",
       "      <th></th>\n",
       "      <th></th>\n",
       "      <th></th>\n",
       "      <th></th>\n",
       "      <th></th>\n",
       "      <th></th>\n",
       "      <th></th>\n",
       "      <th></th>\n",
       "      <th></th>\n",
       "      <th></th>\n",
       "    </tr>\n",
       "  </thead>\n",
       "  <tbody>\n",
       "    <tr>\n",
       "      <th>2019-01-02</th>\n",
       "      <td>285.609985</td>\n",
       "      <td>298.869995</td>\n",
       "      <td>282.880005</td>\n",
       "      <td>298.010010</td>\n",
       "      <td>298.010010</td>\n",
       "      <td>349000</td>\n",
       "      <td>298.010010</td>\n",
       "      <td>298.010010</td>\n",
       "      <td>NaN</td>\n",
       "      <td>-0.004765</td>\n",
       "      <td>-1</td>\n",
       "    </tr>\n",
       "    <tr>\n",
       "      <th>2019-01-03</th>\n",
       "      <td>295.079987</td>\n",
       "      <td>300.500000</td>\n",
       "      <td>289.140015</td>\n",
       "      <td>296.589996</td>\n",
       "      <td>296.589996</td>\n",
       "      <td>564400</td>\n",
       "      <td>298.720016</td>\n",
       "      <td>295.879990</td>\n",
       "      <td>-0.004765</td>\n",
       "      <td>0.063185</td>\n",
       "      <td>1</td>\n",
       "    </tr>\n",
       "    <tr>\n",
       "      <th>2019-01-04</th>\n",
       "      <td>301.670013</td>\n",
       "      <td>317.970001</td>\n",
       "      <td>301.010010</td>\n",
       "      <td>315.329987</td>\n",
       "      <td>315.329987</td>\n",
       "      <td>606600</td>\n",
       "      <td>320.348324</td>\n",
       "      <td>286.271671</td>\n",
       "      <td>0.063185</td>\n",
       "      <td>0.043161</td>\n",
       "      <td>1</td>\n",
       "    </tr>\n",
       "    <tr>\n",
       "      <th>2019-01-07</th>\n",
       "      <td>315.730011</td>\n",
       "      <td>330.890015</td>\n",
       "      <td>315.730011</td>\n",
       "      <td>328.940002</td>\n",
       "      <td>328.940002</td>\n",
       "      <td>467700</td>\n",
       "      <td>336.370853</td>\n",
       "      <td>283.064145</td>\n",
       "      <td>0.043161</td>\n",
       "      <td>-0.001368</td>\n",
       "      <td>-1</td>\n",
       "    </tr>\n",
       "    <tr>\n",
       "      <th>2019-01-08</th>\n",
       "      <td>334.170013</td>\n",
       "      <td>334.989990</td>\n",
       "      <td>317.739990</td>\n",
       "      <td>328.489990</td>\n",
       "      <td>328.489990</td>\n",
       "      <td>500900</td>\n",
       "      <td>341.647539</td>\n",
       "      <td>285.296455</td>\n",
       "      <td>-0.001368</td>\n",
       "      <td>0.034917</td>\n",
       "      <td>1</td>\n",
       "    </tr>\n",
       "  </tbody>\n",
       "</table>\n",
       "</div>"
      ],
      "text/plain": [
       "                  Open        High         Low       Close   Adj Close  \\\n",
       "Date                                                                     \n",
       "2019-01-02  285.609985  298.869995  282.880005  298.010010  298.010010   \n",
       "2019-01-03  295.079987  300.500000  289.140015  296.589996  296.589996   \n",
       "2019-01-04  301.670013  317.970001  301.010010  315.329987  315.329987   \n",
       "2019-01-07  315.730011  330.890015  315.730011  328.940002  328.940002   \n",
       "2019-01-08  334.170013  334.989990  317.739990  328.489990  328.489990   \n",
       "\n",
       "            Volume        ubol        lbol   returns  returns_shift  label  \n",
       "Date                                                                        \n",
       "2019-01-02  349000  298.010010  298.010010       NaN      -0.004765     -1  \n",
       "2019-01-03  564400  298.720016  295.879990 -0.004765       0.063185      1  \n",
       "2019-01-04  606600  320.348324  286.271671  0.063185       0.043161      1  \n",
       "2019-01-07  467700  336.370853  283.064145  0.043161      -0.001368     -1  \n",
       "2019-01-08  500900  341.647539  285.296455 -0.001368       0.034917      1  "
      ]
     },
     "execution_count": 4,
     "metadata": {},
     "output_type": "execute_result"
    }
   ],
   "source": [
    "# Cálculo de retornos\n",
    "df['returns'] = df['Adj Close'].pct_change()\n",
    "\n",
    "# Agrego Retorno shifteado para evaluar si el precio sube o baja al dia siguiente.\n",
    "df['returns_shift'] = df['returns'].shift(-1)\n",
    "\n",
    "# Etiquetado\n",
    "df['label'] = df['returns_shift'].apply(lambda x: -1 if x <= 0 else 1)\n",
    "\n",
    "df.head()"
   ]
  },
  {
   "cell_type": "markdown",
   "id": "720d1318-f404-47ea-a87c-44523b02cf94",
   "metadata": {},
   "source": [
    "Una vez las etiquetas estén listas, comencemos a juntar señales, que van a ser nuestros features! Utilizar algunas de la lista que figura en el Github de `ta`, son muchas, así que tomar algunas que parezcan interesantes o que pueden agregar variabilidad a los resultados (cómo podríamos ver eso?):\n",
    "\n",
    "#### Volume\n",
    "\n",
    "* Accumulation/Distribution Index (ADI)\n",
    "* On-Balance Volume (OBV)\n",
    "* Chaikin Money Flow (CMF)\n",
    "* Force Index (FI)\n",
    "* Ease of Movement (EoM, EMV)\n",
    "* Volume-price Trend (VPT)\n",
    "* Negative Volume Index (NVI)\n",
    "\n",
    "#### Volatility\n",
    "\n",
    "* Average True Range (ATR)\n",
    "* Bollinger Bands (BB)\n",
    "* Keltner Channel (KC)\n",
    "* Donchian Channel (DC)\n",
    "\n",
    "#### Trend\n",
    "\n",
    "* Moving Average Convergence Divergence (MACD)\n",
    "* Average Directional Movement Index (ADX)\n",
    "* Vortex Indicator (VI)\n",
    "* Trix (TRIX)\n",
    "* Mass Index (MI)\n",
    "* Commodity Channel Index (CCI)\n",
    "* Detrended Price Oscillator (DPO)\n",
    "* KST Oscillator (KST)\n",
    "* Ichimoku Kinkō Hyō (Ichimoku)\n",
    "\n",
    "#### Momentum\n",
    "\n",
    "* Money Flow Index (MFI)\n",
    "* Relative Strength Index (RSI)\n",
    "* True strength index (TSI)\n",
    "* Ultimate Oscillator (UO)\n",
    "* Stochastic Oscillator (SR)\n",
    "* Williams %R (WR)\n",
    "* Awesome Oscillator (AO)\n",
    "\n",
    "#### Others\n",
    "\n",
    "* Daily Return (DR)\n",
    "* Daily Log Return (DLR)\n",
    "* Cumulative Return (CR)\n",
    "\n",
    "Vamos a dejarlas en el mismo DataFrame, como hicimos con las bandas de Bollinger. "
   ]
  },
  {
   "cell_type": "markdown",
   "id": "1d885e90-f1b9-49e0-9d79-4ce77b0b53af",
   "metadata": {},
   "source": [
    "### Volume\n",
    "- VPT: se basa en un volumen acumulado que suma o resta un múltiplo del cambio porcentual en la tendencia del precio de las acciones y el volumen actual, dependiendo de los movimientos ascendentes o descendentes de la inversión\n",
    "- ADI: "
   ]
  },
  {
   "cell_type": "code",
   "execution_count": 5,
   "id": "b1b42617-7cf6-4617-9c79-2cd0cb31c1d6",
   "metadata": {},
   "outputs": [],
   "source": [
    "# Volume\n",
    "from ta.volume import VolumePriceTrendIndicator, AccDistIndexIndicator\n",
    "\n",
    "ADI = AccDistIndexIndicator(high=df['High'], low=df['Low'], close=df['Close'], volume=df['Volume'], fillna=True)\n",
    "VPT = VolumePriceTrendIndicator(close=df['Close'], volume=df['Volume'], fillna=True)\n",
    "\n",
    "df['ADI'] = ADI.acc_dist_index()\n",
    "df['VPT'] = VPT.volume_price_trend()"
   ]
  },
  {
   "cell_type": "markdown",
   "id": "f97a267c-342c-4952-89dc-5b11e828b754",
   "metadata": {},
   "source": [
    "### Volatility\n",
    "- ATR: "
   ]
  },
  {
   "cell_type": "code",
   "execution_count": 6,
   "id": "7b358ed5-1b53-494a-b077-3c5838bb7b53",
   "metadata": {},
   "outputs": [],
   "source": [
    "# Volatility\n",
    "from ta.volatility import AverageTrueRange\n",
    "\n",
    "ATR = AverageTrueRange(high=df['High'], low=df['Low'], close=df['Close'], window=7, fillna=True)\n",
    "\n",
    "df['ATR'] = ATR.average_true_range()"
   ]
  },
  {
   "cell_type": "markdown",
   "id": "395e41a9-6d7f-4281-93ae-bf7ffe91b9ff",
   "metadata": {},
   "source": [
    "### Trend\n",
    "- MCAD: Moving Average Convergence Divergence,  media móvil de convergencia y divergencia. Es un indicador de tendencia y se centra únicamente en analizar las medias móviles exponenciales del precio de cierre. La teoría dice que cuando la curva MACD es menor que la señal (cuando la curva tiene un valor menor a 0)la tendencia del precio sera bajista. Y al contrario, indica  una señal de subida de precio.\n",
    "- DPO"
   ]
  },
  {
   "cell_type": "code",
   "execution_count": 7,
   "id": "04575f72-40e0-46d9-85aa-f2849935c435",
   "metadata": {},
   "outputs": [],
   "source": [
    "# Trend\n",
    "from ta.trend import MACD, DPOIndicator\n",
    "\n",
    "MACD = MACD(close=df['Close'], fillna=True) # window_fast window_slow window_sign\n",
    "DPO = DPOIndicator(close=df['Close'], window=7, fillna=True)\n",
    "\n",
    "df['MACD'] = MACD.macd()\n",
    "df['DPO'] = DPO.dpo()"
   ]
  },
  {
   "cell_type": "markdown",
   "id": "30cb1bd0-032d-4ea0-895b-4cf8dd0d5474",
   "metadata": {},
   "source": [
    "### Momentum"
   ]
  },
  {
   "cell_type": "code",
   "execution_count": 8,
   "id": "7850fe73-c28e-4135-adb7-93304790c8e0",
   "metadata": {},
   "outputs": [],
   "source": [
    "# Momentum\n",
    "from ta.momentum import AwesomeOscillatorIndicator, ROCIndicator\n",
    "\n",
    "AO = AwesomeOscillatorIndicator(high=df['High'], low=df['Low'], fillna=True)\n",
    "ROC = ROCIndicator(close=df['Close'], window=7, fillna=True)\n",
    "\n",
    "df['AO'] = AO.awesome_oscillator()\n",
    "df['ROC'] = ROC.roc()"
   ]
  },
  {
   "cell_type": "code",
   "execution_count": 9,
   "id": "4c9c2259-136b-4be2-bdec-72e71799ec2d",
   "metadata": {},
   "outputs": [
    {
     "data": {
      "text/html": [
       "<div>\n",
       "<style scoped>\n",
       "    .dataframe tbody tr th:only-of-type {\n",
       "        vertical-align: middle;\n",
       "    }\n",
       "\n",
       "    .dataframe tbody tr th {\n",
       "        vertical-align: top;\n",
       "    }\n",
       "\n",
       "    .dataframe thead th {\n",
       "        text-align: right;\n",
       "    }\n",
       "</style>\n",
       "<table border=\"1\" class=\"dataframe\">\n",
       "  <thead>\n",
       "    <tr style=\"text-align: right;\">\n",
       "      <th></th>\n",
       "      <th>Open</th>\n",
       "      <th>High</th>\n",
       "      <th>Low</th>\n",
       "      <th>Close</th>\n",
       "      <th>Adj Close</th>\n",
       "      <th>Volume</th>\n",
       "      <th>ubol</th>\n",
       "      <th>lbol</th>\n",
       "      <th>returns</th>\n",
       "      <th>returns_shift</th>\n",
       "      <th>label</th>\n",
       "      <th>ADI</th>\n",
       "      <th>VPT</th>\n",
       "      <th>ATR</th>\n",
       "      <th>MACD</th>\n",
       "      <th>DPO</th>\n",
       "      <th>AO</th>\n",
       "      <th>ROC</th>\n",
       "    </tr>\n",
       "    <tr>\n",
       "      <th>Date</th>\n",
       "      <th></th>\n",
       "      <th></th>\n",
       "      <th></th>\n",
       "      <th></th>\n",
       "      <th></th>\n",
       "      <th></th>\n",
       "      <th></th>\n",
       "      <th></th>\n",
       "      <th></th>\n",
       "      <th></th>\n",
       "      <th></th>\n",
       "      <th></th>\n",
       "      <th></th>\n",
       "      <th></th>\n",
       "      <th></th>\n",
       "      <th></th>\n",
       "      <th></th>\n",
       "      <th></th>\n",
       "    </tr>\n",
       "  </thead>\n",
       "  <tbody>\n",
       "    <tr>\n",
       "      <th>2019-01-02</th>\n",
       "      <td>285.609985</td>\n",
       "      <td>298.869995</td>\n",
       "      <td>282.880005</td>\n",
       "      <td>298.010010</td>\n",
       "      <td>298.010010</td>\n",
       "      <td>349000</td>\n",
       "      <td>298.010010</td>\n",
       "      <td>298.010010</td>\n",
       "      <td>NaN</td>\n",
       "      <td>-0.004765</td>\n",
       "      <td>-1</td>\n",
       "      <td>3.114597e+05</td>\n",
       "      <td>-206918.020796</td>\n",
       "      <td>0.0</td>\n",
       "      <td>0.000000</td>\n",
       "      <td>450.220427</td>\n",
       "      <td>0.0</td>\n",
       "      <td>0.0</td>\n",
       "    </tr>\n",
       "    <tr>\n",
       "      <th>2019-01-03</th>\n",
       "      <td>295.079987</td>\n",
       "      <td>300.500000</td>\n",
       "      <td>289.140015</td>\n",
       "      <td>296.589996</td>\n",
       "      <td>296.589996</td>\n",
       "      <td>564400</td>\n",
       "      <td>298.720016</td>\n",
       "      <td>295.879990</td>\n",
       "      <td>-0.004765</td>\n",
       "      <td>0.063185</td>\n",
       "      <td>1</td>\n",
       "      <td>4.873370e+05</td>\n",
       "      <td>-212687.403121</td>\n",
       "      <td>0.0</td>\n",
       "      <td>-0.113277</td>\n",
       "      <td>450.930434</td>\n",
       "      <td>0.0</td>\n",
       "      <td>0.0</td>\n",
       "    </tr>\n",
       "    <tr>\n",
       "      <th>2019-01-04</th>\n",
       "      <td>301.670013</td>\n",
       "      <td>317.970001</td>\n",
       "      <td>301.010010</td>\n",
       "      <td>315.329987</td>\n",
       "      <td>315.329987</td>\n",
       "      <td>606600</td>\n",
       "      <td>320.348324</td>\n",
       "      <td>286.271671</td>\n",
       "      <td>0.063185</td>\n",
       "      <td>0.043161</td>\n",
       "      <td>1</td>\n",
       "      <td>9.050886e+05</td>\n",
       "      <td>35638.563513</td>\n",
       "      <td>0.0</td>\n",
       "      <td>1.294191</td>\n",
       "      <td>444.920440</td>\n",
       "      <td>0.0</td>\n",
       "      <td>0.0</td>\n",
       "    </tr>\n",
       "    <tr>\n",
       "      <th>2019-01-07</th>\n",
       "      <td>315.730011</td>\n",
       "      <td>330.890015</td>\n",
       "      <td>315.730011</td>\n",
       "      <td>328.940002</td>\n",
       "      <td>328.940002</td>\n",
       "      <td>467700</td>\n",
       "      <td>336.370853</td>\n",
       "      <td>283.064145</td>\n",
       "      <td>0.043161</td>\n",
       "      <td>-0.001368</td>\n",
       "      <td>-1</td>\n",
       "      <td>1.252469e+06</td>\n",
       "      <td>58514.407627</td>\n",
       "      <td>0.0</td>\n",
       "      <td>3.467860</td>\n",
       "      <td>438.512938</td>\n",
       "      <td>0.0</td>\n",
       "      <td>0.0</td>\n",
       "    </tr>\n",
       "    <tr>\n",
       "      <th>2019-01-08</th>\n",
       "      <td>334.170013</td>\n",
       "      <td>334.989990</td>\n",
       "      <td>317.739990</td>\n",
       "      <td>328.489990</td>\n",
       "      <td>328.489990</td>\n",
       "      <td>500900</td>\n",
       "      <td>341.647539</td>\n",
       "      <td>285.296455</td>\n",
       "      <td>-0.001368</td>\n",
       "      <td>0.034917</td>\n",
       "      <td>1</td>\n",
       "      <td>1.375879e+06</td>\n",
       "      <td>19501.221066</td>\n",
       "      <td>0.0</td>\n",
       "      <td>5.095458</td>\n",
       "      <td>-15.461987</td>\n",
       "      <td>0.0</td>\n",
       "      <td>0.0</td>\n",
       "    </tr>\n",
       "  </tbody>\n",
       "</table>\n",
       "</div>"
      ],
      "text/plain": [
       "                  Open        High         Low       Close   Adj Close  \\\n",
       "Date                                                                     \n",
       "2019-01-02  285.609985  298.869995  282.880005  298.010010  298.010010   \n",
       "2019-01-03  295.079987  300.500000  289.140015  296.589996  296.589996   \n",
       "2019-01-04  301.670013  317.970001  301.010010  315.329987  315.329987   \n",
       "2019-01-07  315.730011  330.890015  315.730011  328.940002  328.940002   \n",
       "2019-01-08  334.170013  334.989990  317.739990  328.489990  328.489990   \n",
       "\n",
       "            Volume        ubol        lbol   returns  returns_shift  label  \\\n",
       "Date                                                                         \n",
       "2019-01-02  349000  298.010010  298.010010       NaN      -0.004765     -1   \n",
       "2019-01-03  564400  298.720016  295.879990 -0.004765       0.063185      1   \n",
       "2019-01-04  606600  320.348324  286.271671  0.063185       0.043161      1   \n",
       "2019-01-07  467700  336.370853  283.064145  0.043161      -0.001368     -1   \n",
       "2019-01-08  500900  341.647539  285.296455 -0.001368       0.034917      1   \n",
       "\n",
       "                     ADI            VPT  ATR      MACD         DPO   AO  ROC  \n",
       "Date                                                                          \n",
       "2019-01-02  3.114597e+05 -206918.020796  0.0  0.000000  450.220427  0.0  0.0  \n",
       "2019-01-03  4.873370e+05 -212687.403121  0.0 -0.113277  450.930434  0.0  0.0  \n",
       "2019-01-04  9.050886e+05   35638.563513  0.0  1.294191  444.920440  0.0  0.0  \n",
       "2019-01-07  1.252469e+06   58514.407627  0.0  3.467860  438.512938  0.0  0.0  \n",
       "2019-01-08  1.375879e+06   19501.221066  0.0  5.095458  -15.461987  0.0  0.0  "
      ]
     },
     "execution_count": 9,
     "metadata": {},
     "output_type": "execute_result"
    }
   ],
   "source": [
    "df.head()"
   ]
  },
  {
   "cell_type": "code",
   "execution_count": 10,
   "id": "0e193ca1-52a6-418b-8456-504092bccc93",
   "metadata": {
    "collapsed": true,
    "jupyter": {
     "outputs_hidden": true
    },
    "tags": []
   },
   "outputs": [
    {
     "data": {
      "text/plain": [
       "Open             0\n",
       "High             0\n",
       "Low              0\n",
       "Close            0\n",
       "Adj Close        0\n",
       "Volume           0\n",
       "ubol             0\n",
       "lbol             0\n",
       "returns          1\n",
       "returns_shift    1\n",
       "label            0\n",
       "ADI              0\n",
       "VPT              0\n",
       "ATR              0\n",
       "MACD             0\n",
       "DPO              0\n",
       "AO               0\n",
       "ROC              0\n",
       "dtype: int64"
      ]
     },
     "execution_count": 10,
     "metadata": {},
     "output_type": "execute_result"
    }
   ],
   "source": [
    "df.isna().sum()"
   ]
  },
  {
   "cell_type": "code",
   "execution_count": 49,
   "id": "d8f85426-6610-4432-88d5-f605e8cf2ee9",
   "metadata": {},
   "outputs": [],
   "source": [
    "# Importacion de librerias\n",
    "from sklearn.neighbors import KNeighborsClassifier\n",
    "from sklearn.metrics import classification_report, confusion_matrix, plot_confusion_matrix\n",
    "from sklearn.ensemble import GradientBoostingClassifier, RandomForestClassifier"
   ]
  },
  {
   "cell_type": "markdown",
   "id": "e080ae36-5add-419c-8a4a-8adbda6e7fc0",
   "metadata": {},
   "source": [
    "## ¿Cuáles parecen ser las mejores señales para inferir 'algo'?\n",
    "\n",
    "Es probable que las mismas cambien a medida que pase el tiempo. Algo *muy importante* al trabajar con datos financieros es separar de forma correcta los datos de training y test, ya que siempre queremos hacer inferencias del futuro en base a datos del pasado (https://www.datapred.com/blog/the-basics-of-backtesting).\n",
    "\n",
    "Vamos a dividir nuestros datos de forma que podamos entrenar una predicción cada trimestre del año 2020. Para eso vamos a poder usar los datos desde comienzo del 2020.\n",
    "\n",
    "Hagamos clasificación binaria, ya que tenemos nuestras etiquetas +1 y -1. K Nearest Neighbors parece interesante para hacer esto, pero también se puede probar algún otro clasificador.\n",
    "\n",
    "Reportar para cada trimestre:\n",
    "\n",
    "- Accuracy\n",
    "- Precision\n",
    "- Recall\n",
    "- F1\n",
    "- matriz de confusión"
   ]
  },
  {
   "cell_type": "code",
   "execution_count": 11,
   "id": "58dc2175-153d-431e-a8f1-b0df73712259",
   "metadata": {},
   "outputs": [],
   "source": [
    "df['date'] = df.index"
   ]
  },
  {
   "cell_type": "code",
   "execution_count": 12,
   "id": "54f2a34e-9a2a-42d3-a46d-f0381fc3b4c8",
   "metadata": {
    "tags": []
   },
   "outputs": [
    {
     "data": {
      "text/html": [
       "<div>\n",
       "<style scoped>\n",
       "    .dataframe tbody tr th:only-of-type {\n",
       "        vertical-align: middle;\n",
       "    }\n",
       "\n",
       "    .dataframe tbody tr th {\n",
       "        vertical-align: top;\n",
       "    }\n",
       "\n",
       "    .dataframe thead th {\n",
       "        text-align: right;\n",
       "    }\n",
       "</style>\n",
       "<table border=\"1\" class=\"dataframe\">\n",
       "  <thead>\n",
       "    <tr style=\"text-align: right;\">\n",
       "      <th></th>\n",
       "      <th>Open</th>\n",
       "      <th>High</th>\n",
       "      <th>Low</th>\n",
       "      <th>Close</th>\n",
       "      <th>Adj Close</th>\n",
       "      <th>Volume</th>\n",
       "      <th>ubol</th>\n",
       "      <th>lbol</th>\n",
       "      <th>returns</th>\n",
       "      <th>returns_shift</th>\n",
       "      <th>...</th>\n",
       "      <th>ADI</th>\n",
       "      <th>VPT</th>\n",
       "      <th>ATR</th>\n",
       "      <th>MACD</th>\n",
       "      <th>DPO</th>\n",
       "      <th>AO</th>\n",
       "      <th>ROC</th>\n",
       "      <th>date</th>\n",
       "      <th>quarter</th>\n",
       "      <th>year</th>\n",
       "    </tr>\n",
       "    <tr>\n",
       "      <th>Date</th>\n",
       "      <th></th>\n",
       "      <th></th>\n",
       "      <th></th>\n",
       "      <th></th>\n",
       "      <th></th>\n",
       "      <th></th>\n",
       "      <th></th>\n",
       "      <th></th>\n",
       "      <th></th>\n",
       "      <th></th>\n",
       "      <th></th>\n",
       "      <th></th>\n",
       "      <th></th>\n",
       "      <th></th>\n",
       "      <th></th>\n",
       "      <th></th>\n",
       "      <th></th>\n",
       "      <th></th>\n",
       "      <th></th>\n",
       "      <th></th>\n",
       "      <th></th>\n",
       "    </tr>\n",
       "  </thead>\n",
       "  <tbody>\n",
       "    <tr>\n",
       "      <th>2019-01-02</th>\n",
       "      <td>285.609985</td>\n",
       "      <td>298.869995</td>\n",
       "      <td>282.880005</td>\n",
       "      <td>298.010010</td>\n",
       "      <td>298.010010</td>\n",
       "      <td>349000</td>\n",
       "      <td>298.010010</td>\n",
       "      <td>298.010010</td>\n",
       "      <td>NaN</td>\n",
       "      <td>-0.004765</td>\n",
       "      <td>...</td>\n",
       "      <td>3.114597e+05</td>\n",
       "      <td>-206918.020796</td>\n",
       "      <td>0.000000</td>\n",
       "      <td>0.000000</td>\n",
       "      <td>450.220427</td>\n",
       "      <td>0.000000</td>\n",
       "      <td>0.000000</td>\n",
       "      <td>2019-01-02</td>\n",
       "      <td>1</td>\n",
       "      <td>2019</td>\n",
       "    </tr>\n",
       "    <tr>\n",
       "      <th>2019-01-03</th>\n",
       "      <td>295.079987</td>\n",
       "      <td>300.500000</td>\n",
       "      <td>289.140015</td>\n",
       "      <td>296.589996</td>\n",
       "      <td>296.589996</td>\n",
       "      <td>564400</td>\n",
       "      <td>298.720016</td>\n",
       "      <td>295.879990</td>\n",
       "      <td>-0.004765</td>\n",
       "      <td>0.063185</td>\n",
       "      <td>...</td>\n",
       "      <td>4.873370e+05</td>\n",
       "      <td>-212687.403121</td>\n",
       "      <td>0.000000</td>\n",
       "      <td>-0.113277</td>\n",
       "      <td>450.930434</td>\n",
       "      <td>0.000000</td>\n",
       "      <td>0.000000</td>\n",
       "      <td>2019-01-03</td>\n",
       "      <td>1</td>\n",
       "      <td>2019</td>\n",
       "    </tr>\n",
       "    <tr>\n",
       "      <th>2019-01-04</th>\n",
       "      <td>301.670013</td>\n",
       "      <td>317.970001</td>\n",
       "      <td>301.010010</td>\n",
       "      <td>315.329987</td>\n",
       "      <td>315.329987</td>\n",
       "      <td>606600</td>\n",
       "      <td>320.348324</td>\n",
       "      <td>286.271671</td>\n",
       "      <td>0.063185</td>\n",
       "      <td>0.043161</td>\n",
       "      <td>...</td>\n",
       "      <td>9.050886e+05</td>\n",
       "      <td>35638.563513</td>\n",
       "      <td>0.000000</td>\n",
       "      <td>1.294191</td>\n",
       "      <td>444.920440</td>\n",
       "      <td>0.000000</td>\n",
       "      <td>0.000000</td>\n",
       "      <td>2019-01-04</td>\n",
       "      <td>1</td>\n",
       "      <td>2019</td>\n",
       "    </tr>\n",
       "    <tr>\n",
       "      <th>2019-01-07</th>\n",
       "      <td>315.730011</td>\n",
       "      <td>330.890015</td>\n",
       "      <td>315.730011</td>\n",
       "      <td>328.940002</td>\n",
       "      <td>328.940002</td>\n",
       "      <td>467700</td>\n",
       "      <td>336.370853</td>\n",
       "      <td>283.064145</td>\n",
       "      <td>0.043161</td>\n",
       "      <td>-0.001368</td>\n",
       "      <td>...</td>\n",
       "      <td>1.252469e+06</td>\n",
       "      <td>58514.407627</td>\n",
       "      <td>0.000000</td>\n",
       "      <td>3.467860</td>\n",
       "      <td>438.512938</td>\n",
       "      <td>0.000000</td>\n",
       "      <td>0.000000</td>\n",
       "      <td>2019-01-07</td>\n",
       "      <td>1</td>\n",
       "      <td>2019</td>\n",
       "    </tr>\n",
       "    <tr>\n",
       "      <th>2019-01-08</th>\n",
       "      <td>334.170013</td>\n",
       "      <td>334.989990</td>\n",
       "      <td>317.739990</td>\n",
       "      <td>328.489990</td>\n",
       "      <td>328.489990</td>\n",
       "      <td>500900</td>\n",
       "      <td>341.647539</td>\n",
       "      <td>285.296455</td>\n",
       "      <td>-0.001368</td>\n",
       "      <td>0.034917</td>\n",
       "      <td>...</td>\n",
       "      <td>1.375879e+06</td>\n",
       "      <td>19501.221066</td>\n",
       "      <td>0.000000</td>\n",
       "      <td>5.095458</td>\n",
       "      <td>-15.461987</td>\n",
       "      <td>0.000000</td>\n",
       "      <td>0.000000</td>\n",
       "      <td>2019-01-08</td>\n",
       "      <td>1</td>\n",
       "      <td>2019</td>\n",
       "    </tr>\n",
       "    <tr>\n",
       "      <th>...</th>\n",
       "      <td>...</td>\n",
       "      <td>...</td>\n",
       "      <td>...</td>\n",
       "      <td>...</td>\n",
       "      <td>...</td>\n",
       "      <td>...</td>\n",
       "      <td>...</td>\n",
       "      <td>...</td>\n",
       "      <td>...</td>\n",
       "      <td>...</td>\n",
       "      <td>...</td>\n",
       "      <td>...</td>\n",
       "      <td>...</td>\n",
       "      <td>...</td>\n",
       "      <td>...</td>\n",
       "      <td>...</td>\n",
       "      <td>...</td>\n",
       "      <td>...</td>\n",
       "      <td>...</td>\n",
       "      <td>...</td>\n",
       "      <td>...</td>\n",
       "    </tr>\n",
       "    <tr>\n",
       "      <th>2020-12-23</th>\n",
       "      <td>1729.260010</td>\n",
       "      <td>1735.390015</td>\n",
       "      <td>1667.010010</td>\n",
       "      <td>1670.010010</td>\n",
       "      <td>1670.010010</td>\n",
       "      <td>419100</td>\n",
       "      <td>1751.453429</td>\n",
       "      <td>1457.954591</td>\n",
       "      <td>-0.036008</td>\n",
       "      <td>0.012257</td>\n",
       "      <td>...</td>\n",
       "      <td>2.012672e+07</td>\n",
       "      <td>-8796.047546</td>\n",
       "      <td>52.531882</td>\n",
       "      <td>84.698355</td>\n",
       "      <td>-11.794312</td>\n",
       "      <td>201.695410</td>\n",
       "      <td>3.210632</td>\n",
       "      <td>2020-12-23</td>\n",
       "      <td>4</td>\n",
       "      <td>2020</td>\n",
       "    </tr>\n",
       "    <tr>\n",
       "      <th>2020-12-24</th>\n",
       "      <td>1672.000000</td>\n",
       "      <td>1694.479980</td>\n",
       "      <td>1665.900024</td>\n",
       "      <td>1690.479980</td>\n",
       "      <td>1690.479980</td>\n",
       "      <td>132800</td>\n",
       "      <td>1754.756073</td>\n",
       "      <td>1475.663946</td>\n",
       "      <td>0.012257</td>\n",
       "      <td>-0.015830</td>\n",
       "      <td>...</td>\n",
       "      <td>2.022235e+07</td>\n",
       "      <td>-13463.196333</td>\n",
       "      <td>49.110178</td>\n",
       "      <td>81.606579</td>\n",
       "      <td>28.825753</td>\n",
       "      <td>194.427296</td>\n",
       "      <td>1.287605</td>\n",
       "      <td>2020-12-24</td>\n",
       "      <td>4</td>\n",
       "      <td>2020</td>\n",
       "    </tr>\n",
       "    <tr>\n",
       "      <th>2020-12-28</th>\n",
       "      <td>1700.000000</td>\n",
       "      <td>1703.319946</td>\n",
       "      <td>1625.699951</td>\n",
       "      <td>1663.719971</td>\n",
       "      <td>1663.719971</td>\n",
       "      <td>285900</td>\n",
       "      <td>1755.562921</td>\n",
       "      <td>1489.886090</td>\n",
       "      <td>-0.015830</td>\n",
       "      <td>0.005872</td>\n",
       "      <td>...</td>\n",
       "      <td>2.021653e+07</td>\n",
       "      <td>-2897.966312</td>\n",
       "      <td>53.183009</td>\n",
       "      <td>76.119556</td>\n",
       "      <td>3.867153</td>\n",
       "      <td>180.384438</td>\n",
       "      <td>-0.348603</td>\n",
       "      <td>2020-12-28</td>\n",
       "      <td>4</td>\n",
       "      <td>2020</td>\n",
       "    </tr>\n",
       "    <tr>\n",
       "      <th>2020-12-29</th>\n",
       "      <td>1680.000000</td>\n",
       "      <td>1689.410034</td>\n",
       "      <td>1640.030029</td>\n",
       "      <td>1673.489990</td>\n",
       "      <td>1673.489990</td>\n",
       "      <td>278300</td>\n",
       "      <td>1759.323344</td>\n",
       "      <td>1498.141671</td>\n",
       "      <td>0.005872</td>\n",
       "      <td>0.023573</td>\n",
       "      <td>...</td>\n",
       "      <td>2.031538e+07</td>\n",
       "      <td>-2891.460927</td>\n",
       "      <td>52.639723</td>\n",
       "      <td>71.732522</td>\n",
       "      <td>39.295724</td>\n",
       "      <td>166.053767</td>\n",
       "      <td>-0.386907</td>\n",
       "      <td>2020-12-29</td>\n",
       "      <td>4</td>\n",
       "      <td>2020</td>\n",
       "    </tr>\n",
       "    <tr>\n",
       "      <th>2020-12-30</th>\n",
       "      <td>1690.000000</td>\n",
       "      <td>1723.959961</td>\n",
       "      <td>1659.599976</td>\n",
       "      <td>1712.939941</td>\n",
       "      <td>1712.939941</td>\n",
       "      <td>304300</td>\n",
       "      <td>1764.047693</td>\n",
       "      <td>1512.545312</td>\n",
       "      <td>0.023573</td>\n",
       "      <td>NaN</td>\n",
       "      <td>...</td>\n",
       "      <td>2.051547e+07</td>\n",
       "      <td>8807.691520</td>\n",
       "      <td>54.314046</td>\n",
       "      <td>70.624927</td>\n",
       "      <td>-21.549979</td>\n",
       "      <td>148.336022</td>\n",
       "      <td>-0.623092</td>\n",
       "      <td>2020-12-30</td>\n",
       "      <td>4</td>\n",
       "      <td>2020</td>\n",
       "    </tr>\n",
       "  </tbody>\n",
       "</table>\n",
       "<p>504 rows × 21 columns</p>\n",
       "</div>"
      ],
      "text/plain": [
       "                   Open         High          Low        Close    Adj Close  \\\n",
       "Date                                                                          \n",
       "2019-01-02   285.609985   298.869995   282.880005   298.010010   298.010010   \n",
       "2019-01-03   295.079987   300.500000   289.140015   296.589996   296.589996   \n",
       "2019-01-04   301.670013   317.970001   301.010010   315.329987   315.329987   \n",
       "2019-01-07   315.730011   330.890015   315.730011   328.940002   328.940002   \n",
       "2019-01-08   334.170013   334.989990   317.739990   328.489990   328.489990   \n",
       "...                 ...          ...          ...          ...          ...   \n",
       "2020-12-23  1729.260010  1735.390015  1667.010010  1670.010010  1670.010010   \n",
       "2020-12-24  1672.000000  1694.479980  1665.900024  1690.479980  1690.479980   \n",
       "2020-12-28  1700.000000  1703.319946  1625.699951  1663.719971  1663.719971   \n",
       "2020-12-29  1680.000000  1689.410034  1640.030029  1673.489990  1673.489990   \n",
       "2020-12-30  1690.000000  1723.959961  1659.599976  1712.939941  1712.939941   \n",
       "\n",
       "            Volume         ubol         lbol   returns  returns_shift  ...  \\\n",
       "Date                                                                   ...   \n",
       "2019-01-02  349000   298.010010   298.010010       NaN      -0.004765  ...   \n",
       "2019-01-03  564400   298.720016   295.879990 -0.004765       0.063185  ...   \n",
       "2019-01-04  606600   320.348324   286.271671  0.063185       0.043161  ...   \n",
       "2019-01-07  467700   336.370853   283.064145  0.043161      -0.001368  ...   \n",
       "2019-01-08  500900   341.647539   285.296455 -0.001368       0.034917  ...   \n",
       "...            ...          ...          ...       ...            ...  ...   \n",
       "2020-12-23  419100  1751.453429  1457.954591 -0.036008       0.012257  ...   \n",
       "2020-12-24  132800  1754.756073  1475.663946  0.012257      -0.015830  ...   \n",
       "2020-12-28  285900  1755.562921  1489.886090 -0.015830       0.005872  ...   \n",
       "2020-12-29  278300  1759.323344  1498.141671  0.005872       0.023573  ...   \n",
       "2020-12-30  304300  1764.047693  1512.545312  0.023573            NaN  ...   \n",
       "\n",
       "                     ADI            VPT        ATR       MACD         DPO  \\\n",
       "Date                                                                        \n",
       "2019-01-02  3.114597e+05 -206918.020796   0.000000   0.000000  450.220427   \n",
       "2019-01-03  4.873370e+05 -212687.403121   0.000000  -0.113277  450.930434   \n",
       "2019-01-04  9.050886e+05   35638.563513   0.000000   1.294191  444.920440   \n",
       "2019-01-07  1.252469e+06   58514.407627   0.000000   3.467860  438.512938   \n",
       "2019-01-08  1.375879e+06   19501.221066   0.000000   5.095458  -15.461987   \n",
       "...                  ...            ...        ...        ...         ...   \n",
       "2020-12-23  2.012672e+07   -8796.047546  52.531882  84.698355  -11.794312   \n",
       "2020-12-24  2.022235e+07  -13463.196333  49.110178  81.606579   28.825753   \n",
       "2020-12-28  2.021653e+07   -2897.966312  53.183009  76.119556    3.867153   \n",
       "2020-12-29  2.031538e+07   -2891.460927  52.639723  71.732522   39.295724   \n",
       "2020-12-30  2.051547e+07    8807.691520  54.314046  70.624927  -21.549979   \n",
       "\n",
       "                    AO       ROC       date quarter  year  \n",
       "Date                                                       \n",
       "2019-01-02    0.000000  0.000000 2019-01-02       1  2019  \n",
       "2019-01-03    0.000000  0.000000 2019-01-03       1  2019  \n",
       "2019-01-04    0.000000  0.000000 2019-01-04       1  2019  \n",
       "2019-01-07    0.000000  0.000000 2019-01-07       1  2019  \n",
       "2019-01-08    0.000000  0.000000 2019-01-08       1  2019  \n",
       "...                ...       ...        ...     ...   ...  \n",
       "2020-12-23  201.695410  3.210632 2020-12-23       4  2020  \n",
       "2020-12-24  194.427296  1.287605 2020-12-24       4  2020  \n",
       "2020-12-28  180.384438 -0.348603 2020-12-28       4  2020  \n",
       "2020-12-29  166.053767 -0.386907 2020-12-29       4  2020  \n",
       "2020-12-30  148.336022 -0.623092 2020-12-30       4  2020  \n",
       "\n",
       "[504 rows x 21 columns]"
      ]
     },
     "execution_count": 12,
     "metadata": {},
     "output_type": "execute_result"
    }
   ],
   "source": [
    "# agrego los trimestres al df y el año\n",
    "df['quarter'] = df.date.dt.quarter\n",
    "df['year'] = df.date.dt.year\n",
    "df"
   ]
  },
  {
   "cell_type": "code",
   "execution_count": 24,
   "id": "b6b307d8-f38e-4b3a-928c-fcf7340cbe2c",
   "metadata": {
    "tags": []
   },
   "outputs": [],
   "source": [
    "df.fillna(value=0, inplace=True)"
   ]
  },
  {
   "cell_type": "markdown",
   "id": "34935b9b-d7cf-418d-9cf6-a739f85aa88b",
   "metadata": {},
   "source": [
    "## Predicción primer trimestre 2020"
   ]
  },
  {
   "cell_type": "code",
   "execution_count": 37,
   "id": "e23420e3-c240-4803-b4bb-8341119fc12d",
   "metadata": {},
   "outputs": [],
   "source": [
    "train_q1 = df[df['year'] == 2019]\n",
    "test_q1 = df[(df['year'] == 2020) & (df['quarter'] == 1)]"
   ]
  },
  {
   "cell_type": "code",
   "execution_count": 38,
   "id": "07b83b84-a789-443f-9d73-937201baa336",
   "metadata": {
    "tags": []
   },
   "outputs": [],
   "source": [
    "X_train_q1 = train_q1.drop(columns=['label', 'date', 'returns_shift'])\n",
    "y_train_q1 = train_q1['label']\n",
    "\n",
    "X_test_q1 = test_q1.drop(columns=['label', 'date', 'returns_shift'])\n",
    "y_test_q1 = test_q1['label']"
   ]
  },
  {
   "cell_type": "markdown",
   "id": "1a48888c-e89c-4626-a7ae-72bfccd41c6a",
   "metadata": {},
   "source": [
    "### KNeighborsClassifier"
   ]
  },
  {
   "cell_type": "code",
   "execution_count": 39,
   "id": "0f1514dc-f5a5-4c0f-ab83-753c0f8c9a2a",
   "metadata": {},
   "outputs": [
    {
     "name": "stdout",
     "output_type": "stream",
     "text": [
      "Reporte de test\n",
      "              precision    recall  f1-score   support\n",
      "\n",
      "          -1       0.50      1.00      0.67        30\n",
      "           1       1.00      0.06      0.12        32\n",
      "\n",
      "    accuracy                           0.52        62\n",
      "   macro avg       0.75      0.53      0.39        62\n",
      "weighted avg       0.76      0.52      0.38        62\n",
      "\n"
     ]
    }
   ],
   "source": [
    "# KNeighborsClassifier\n",
    "knn = KNeighborsClassifier() # n_neighbors=5 (default)\n",
    "knn.fit(X_train_q1, y_train_q1)\n",
    "y_pred_q1_knn = knn.predict(X_test_q1)\n",
    "print('Reporte de test')\n",
    "print(classification_report(y_test_q1, y_pred_q1_knn))"
   ]
  },
  {
   "cell_type": "code",
   "execution_count": 40,
   "id": "f7931192-2a78-4480-afe8-6fd50c61aa93",
   "metadata": {},
   "outputs": [
    {
     "name": "stdout",
     "output_type": "stream",
     "text": [
      "matriz_confusion = [[30  0]\n",
      " [30  2]]\n"
     ]
    },
    {
     "data": {
      "text/plain": [
       "<sklearn.metrics._plot.confusion_matrix.ConfusionMatrixDisplay at 0x7ff39f4aeaf0>"
      ]
     },
     "execution_count": 40,
     "metadata": {},
     "output_type": "execute_result"
    },
    {
     "data": {
      "image/png": "[encoded data removed]",
      "text/plain": [
       "<Figure size 432x288 with 2 Axes>"
      ]
     },
     "metadata": {
      "needs_background": "light"
     },
     "output_type": "display_data"
    }
   ],
   "source": [
    "# Matriz de confusión\n",
    "matriz_knn_q1 = confusion_matrix(y_test_q1, y_pred_q1_knn)\n",
    "print(f'matriz_confusion = {matriz_knn_q1}')\n",
    "plot_confusion_matrix(knn, X_test_q1, y_test_q1)"
   ]
  },
  {
   "cell_type": "markdown",
   "id": "99fef45b-7297-4bc9-90c1-efcfeb476056",
   "metadata": {},
   "source": [
    "Label:\n",
    "\n",
    "- -1 = el precio disminuye al dia siguiente\n",
    "-  1 = el precio aumenta al dia siguiente"
   ]
  },
  {
   "cell_type": "markdown",
   "id": "620fb49d-a3ac-4320-9a67-8e8de723f03b",
   "metadata": {},
   "source": [
    "Según el modelo KNN: \n",
    "\n",
    "30 son las predicciones de baja del precio y  coincide  con la realidad. (TN)\n",
    "\n",
    "30 son las predicciones  de baja del precio y en realidad corresponde a una suba del precio.  (FN)\n",
    "\n",
    "0 son las predicciones de suba del precio y en realidad corresponde a una baja del precio. (FP)\n",
    "\n",
    "2 son las predicciones de suba del precio y coincide con la realidad. (TP)"
   ]
  },
  {
   "cell_type": "markdown",
   "id": "85b1ac96-e2f3-477b-a669-c3dfdc9c5d02",
   "metadata": {},
   "source": [
    "### GradientBoostingClassifier"
   ]
  },
  {
   "cell_type": "code",
   "execution_count": 58,
   "id": "94b1c115-da90-4fae-ad8b-034a501e8458",
   "metadata": {},
   "outputs": [
    {
     "name": "stdout",
     "output_type": "stream",
     "text": [
      "Reporte de test\n",
      "              precision    recall  f1-score   support\n",
      "\n",
      "          -1       0.52      0.77      0.62        30\n",
      "           1       0.61      0.34      0.44        32\n",
      "\n",
      "    accuracy                           0.55        62\n",
      "   macro avg       0.57      0.56      0.53        62\n",
      "weighted avg       0.57      0.55      0.53        62\n",
      "\n"
     ]
    }
   ],
   "source": [
    "# GradientBoostingClassifier\n",
    "gbc = GradientBoostingClassifier(random_state=100, n_estimators=80)\n",
    "gbc.fit(X_train_q1, y_train_q1)\n",
    "y_pred_q1_gbc = gbc.predict(X_test_q1)\n",
    "print(\"Reporte de test\")\n",
    "print(classification_report(y_test_q1, y_pred_q1_gbc))"
   ]
  },
  {
   "cell_type": "code",
   "execution_count": 59,
   "id": "ac92e9cc-1b90-494c-98fd-da205da49500",
   "metadata": {},
   "outputs": [
    {
     "name": "stdout",
     "output_type": "stream",
     "text": [
      "matriz_confusion = [[23  7]\n",
      " [21 11]]\n"
     ]
    },
    {
     "data": {
      "text/plain": [
       "<sklearn.metrics._plot.confusion_matrix.ConfusionMatrixDisplay at 0x7ff372a89700>"
      ]
     },
     "execution_count": 59,
     "metadata": {},
     "output_type": "execute_result"
    },
    {
     "data": {
      "image/png": "[encoded data removed]",
      "text/plain": [
       "<Figure size 432x288 with 2 Axes>"
      ]
     },
     "metadata": {
      "needs_background": "light"
     },
     "output_type": "display_data"
    }
   ],
   "source": [
    "# Matriz de confusión\n",
    "matriz_gbc_q1 = confusion_matrix(y_test_q1, y_pred_q1_gbc)\n",
    "print(f'matriz_confusion = {matriz_gbc_q1}')\n",
    "plot_confusion_matrix(gbc, X_test_q1, y_test_q1)"
   ]
  },
  {
   "cell_type": "markdown",
   "id": "01aced0d-355e-4a72-853d-ee4334930344",
   "metadata": {},
   "source": [
    "Label:\n",
    "\n",
    "- -1 = el precio disminuye al dia siguiente\n",
    "-  1 = el precio aumenta al dia siguiente"
   ]
  },
  {
   "cell_type": "markdown",
   "id": "e28fc2a3-f658-4ed2-be34-3f0f1cf399fc",
   "metadata": {},
   "source": [
    "Según el modelo GBC: \n",
    "\n",
    "23 son las predicciones de baja del precio y  coincide  con la realidad. (TN)\n",
    "\n",
    "21 son las predicciones de baja del precio y en realidad corresponde a una suba del precio.  (FN)\n",
    "\n",
    "7 son las predicciones de suba del precio y en realidad corresponde a una baja del precio. (FP)\n",
    "\n",
    "11 son las predicciones de suba del precio y coincide con la realidad. (TP)"
   ]
  },
  {
   "cell_type": "markdown",
   "id": "97460516-2084-4233-aeab-43fe4da8f2ab",
   "metadata": {},
   "source": [
    "## Predicción segundo trimestre 2020"
   ]
  },
  {
   "cell_type": "code",
   "execution_count": 44,
   "id": "8dd1fff2-a09d-4ec5-836d-c4864299d63a",
   "metadata": {},
   "outputs": [],
   "source": [
    "train_q2 = df[df['date'] <= '2020-03-31']\n",
    "test_q2 = df[(df['year'] == 2020) & (df['quarter'] == 2)]"
   ]
  },
  {
   "cell_type": "code",
   "execution_count": 46,
   "id": "cfc85b4b-a411-466e-90ac-32307a7169b0",
   "metadata": {
    "tags": []
   },
   "outputs": [],
   "source": [
    "X_train_q2 = train_q2.drop(columns=['label', 'date', 'returns_shift'])\n",
    "y_train_q2 = train_q2['label']\n",
    "\n",
    "X_test_q2 = test_q2.drop(columns=['label', 'date', 'returns_shift'])\n",
    "y_test_q2 = test_q2['label']"
   ]
  },
  {
   "cell_type": "markdown",
   "id": "2bd3382f-0a30-481d-8770-d24b51f0f59a",
   "metadata": {},
   "source": [
    "### KNeighborsClassifier"
   ]
  },
  {
   "cell_type": "code",
   "execution_count": 47,
   "id": "49566266-d67f-4bc5-b794-f682ec330da8",
   "metadata": {},
   "outputs": [
    {
     "name": "stdout",
     "output_type": "stream",
     "text": [
      "Reporte de test\n",
      "              precision    recall  f1-score   support\n",
      "\n",
      "          -1       0.39      0.70      0.50        23\n",
      "           1       0.68      0.38      0.48        40\n",
      "\n",
      "    accuracy                           0.49        63\n",
      "   macro avg       0.54      0.54      0.49        63\n",
      "weighted avg       0.58      0.49      0.49        63\n",
      "\n"
     ]
    }
   ],
   "source": [
    "knn = KNeighborsClassifier() # n_neighbors=5 (default)\n",
    "knn.fit(X_train_q2, y_train_q2)\n",
    "y_pred_q2_knn = knn.predict(X_test_q2)\n",
    "print('Reporte de test')\n",
    "print(classification_report(y_test_q2, y_pred_q2_knn))"
   ]
  },
  {
   "cell_type": "code",
   "execution_count": 48,
   "id": "64057096-8c55-4ddb-a955-77769c8cdf94",
   "metadata": {},
   "outputs": [
    {
     "name": "stdout",
     "output_type": "stream",
     "text": [
      "matriz_confusion = [[16  7]\n",
      " [25 15]]\n"
     ]
    },
    {
     "data": {
      "text/plain": [
       "<sklearn.metrics._plot.confusion_matrix.ConfusionMatrixDisplay at 0x7ff39df10f10>"
      ]
     },
     "execution_count": 48,
     "metadata": {},
     "output_type": "execute_result"
    },
    {
     "data": {
      "image/png": "[encoded data removed]",
      "text/plain": [
       "<Figure size 432x288 with 2 Axes>"
      ]
     },
     "metadata": {
      "needs_background": "light"
     },
     "output_type": "display_data"
    }
   ],
   "source": [
    "# Matriz de confusión\n",
    "matriz_knn_q2 = confusion_matrix(y_test_q2, y_pred_q2_knn)\n",
    "print(f'matriz_confusion = {matriz_knn_q2}')\n",
    "plot_confusion_matrix(knn, X_test_q2, y_test_q2)"
   ]
  },
  {
   "cell_type": "markdown",
   "id": "49eefbf7-3793-40f2-8878-51ae67850752",
   "metadata": {},
   "source": [
    "Según el modelo KNN: \n",
    "\n",
    "16 son las predicciones de baja del precio y  coincide  con la realidad. (TN)\n",
    "\n",
    "25 son las predicciones  de baja del precio y en realidad corresponde a una suba del precio.  (FN)\n",
    "\n",
    "7 son las predicciones de suba del precio y en realidad corresponde a una baja del precio. (FP)\n",
    "\n",
    "15 son las predicciones de suba del precio y coincide con la realidad. (TP)"
   ]
  },
  {
   "cell_type": "markdown",
   "id": "65c774a4-7c00-4c0f-8210-30a818266470",
   "metadata": {},
   "source": [
    "### RandomForestClassifier"
   ]
  },
  {
   "cell_type": "code",
   "execution_count": 65,
   "id": "80b1310e-be83-4f05-afc0-0605095f6002",
   "metadata": {},
   "outputs": [
    {
     "name": "stdout",
     "output_type": "stream",
     "text": [
      "Reporte de test\n",
      "              precision    recall  f1-score   support\n",
      "\n",
      "          -1       0.40      0.83      0.54        23\n",
      "           1       0.73      0.28      0.40        40\n",
      "\n",
      "    accuracy                           0.48        63\n",
      "   macro avg       0.56      0.55      0.47        63\n",
      "weighted avg       0.61      0.48      0.45        63\n",
      "\n"
     ]
    }
   ],
   "source": [
    "# RandomForestClassifier\n",
    "rfc = RandomForestClassifier(random_state=100) #n_estimators=100\n",
    "rfc.fit(X_train_q2, y_train_q2)\n",
    "y_pred_q2_rfc = gbc.predict(X_test_q2)\n",
    "print(\"Reporte de test\")\n",
    "print(classification_report(y_test_q2, y_pred_q2_rfc))"
   ]
  },
  {
   "cell_type": "code",
   "execution_count": 66,
   "id": "a6453ddc-9842-447c-a8b7-ce71a81c50d7",
   "metadata": {},
   "outputs": [
    {
     "name": "stdout",
     "output_type": "stream",
     "text": [
      "matriz_confusion = [[19  4]\n",
      " [29 11]]\n"
     ]
    },
    {
     "data": {
      "text/plain": [
       "<sklearn.metrics._plot.confusion_matrix.ConfusionMatrixDisplay at 0x7ff372b8ddc0>"
      ]
     },
     "execution_count": 66,
     "metadata": {},
     "output_type": "execute_result"
    },
    {
     "data": {
      "image/png": "[encoded data removed]",
      "text/plain": [
       "<Figure size 432x288 with 2 Axes>"
      ]
     },
     "metadata": {
      "needs_background": "light"
     },
     "output_type": "display_data"
    }
   ],
   "source": [
    "# Matriz de confusión\n",
    "matriz_rfc_q2 = confusion_matrix(y_test_q2, y_pred_q2_rfc)\n",
    "print(f'matriz_confusion = {matriz_rfc_q2}')\n",
    "plot_confusion_matrix(rfc, X_test_q2, y_test_q2)"
   ]
  },
  {
   "cell_type": "markdown",
   "id": "f403bd48-ab69-473e-9cf4-33af023ea287",
   "metadata": {},
   "source": [
    "## Predicción tercer trimestre 2020"
   ]
  },
  {
   "cell_type": "code",
   "execution_count": 67,
   "id": "c81d136b-139d-4694-8220-26c5b3568e9c",
   "metadata": {},
   "outputs": [],
   "source": [
    "train_q3 = df[df['date'] <= '2020-06-30']\n",
    "test_q3 = df[(df['year'] == 2020) & (df['quarter'] == 3)]"
   ]
  },
  {
   "cell_type": "code",
   "execution_count": 68,
   "id": "4e4fecae-df05-44e7-9798-e62c9b3957dc",
   "metadata": {},
   "outputs": [],
   "source": [
    "X_train_q3 = train_q3.drop(columns=['label', 'date', 'returns_shift'])\n",
    "y_train_q3 = train_q3['label']\n",
    "\n",
    "X_test_q3 = test_q3.drop(columns=['label', 'date', 'returns_shift'])\n",
    "y_test_q3 = test_q3['label']"
   ]
  },
  {
   "cell_type": "markdown",
   "id": "d86f3fe8-284d-47c3-b983-4d2cc687b619",
   "metadata": {},
   "source": [
    "### KNeighborsClassifier"
   ]
  },
  {
   "cell_type": "code",
   "execution_count": 69,
   "id": "45895201-e28a-4663-90cb-9dbba86c5d63",
   "metadata": {},
   "outputs": [
    {
     "name": "stdout",
     "output_type": "stream",
     "text": [
      "Reporte de test\n",
      "              precision    recall  f1-score   support\n",
      "\n",
      "          -1       0.58      0.72      0.65        29\n",
      "           1       0.71      0.57      0.63        35\n",
      "\n",
      "    accuracy                           0.64        64\n",
      "   macro avg       0.65      0.65      0.64        64\n",
      "weighted avg       0.65      0.64      0.64        64\n",
      "\n"
     ]
    }
   ],
   "source": [
    "knn = KNeighborsClassifier() # n_neighbors=5 (default)\n",
    "knn.fit(X_train_q3, y_train_q3)\n",
    "y_pred_q3_knn = knn.predict(X_test_q3)\n",
    "print('Reporte de test')\n",
    "print(classification_report(y_test_q3, y_pred_q3_knn))"
   ]
  },
  {
   "cell_type": "code",
   "execution_count": 70,
   "id": "9d1efe9e-d916-460b-ab83-4903bb5dcf92",
   "metadata": {},
   "outputs": [
    {
     "name": "stdout",
     "output_type": "stream",
     "text": [
      "matriz_confusion = [[21  8]\n",
      " [15 20]]\n"
     ]
    },
    {
     "data": {
      "text/plain": [
       "<sklearn.metrics._plot.confusion_matrix.ConfusionMatrixDisplay at 0x7ff372baa3a0>"
      ]
     },
     "execution_count": 70,
     "metadata": {},
     "output_type": "execute_result"
    },
    {
     "data": {
      "image/png": "[encoded data removed]",
      "text/plain": [
       "<Figure size 432x288 with 2 Axes>"
      ]
     },
     "metadata": {
      "needs_background": "light"
     },
     "output_type": "display_data"
    }
   ],
   "source": [
    "# Matriz de confusión\n",
    "matriz_knn_q3 = confusion_matrix(y_test_q3, y_pred_q3_knn)\n",
    "print(f'matriz_confusion = {matriz_knn_q3}')\n",
    "plot_confusion_matrix(knn, X_test_q3, y_test_q3)"
   ]
  },
  {
   "cell_type": "markdown",
   "id": "f297eeab-8bfd-4f09-b173-d40184416323",
   "metadata": {},
   "source": [
    "Según el modelo KNN: \n",
    "\n",
    "21 son las predicciones de baja del precio y  coincide  con la realidad. (TN)\n",
    "\n",
    "15 son las predicciones  de baja del precio y en realidad corresponde a una suba del precio.  (FN)\n",
    "\n",
    "8 son las predicciones de suba del precio y en realidad corresponde a una baja del precio. (FP)\n",
    "\n",
    "20 son las predicciones de suba del precio y coincide con la realidad. (TP)"
   ]
  },
  {
   "cell_type": "markdown",
   "id": "122f711c-3e6c-4c47-942c-8b347468a5ca",
   "metadata": {},
   "source": [
    "## Predicción cuarto trimestre 2020"
   ]
  },
  {
   "cell_type": "code",
   "execution_count": 72,
   "id": "2ec59eb0-c832-42c8-82cd-9807c01d4739",
   "metadata": {},
   "outputs": [],
   "source": [
    "train_q4 = df[df['date'] <= '2020-09-30']\n",
    "test_q4 = df[(df['year'] == 2020) & (df['quarter'] == 4)]"
   ]
  },
  {
   "cell_type": "code",
   "execution_count": 73,
   "id": "ddb74c85-ef5b-459c-9340-5dcd7463529b",
   "metadata": {},
   "outputs": [],
   "source": [
    "X_train_q4 = train_q4.drop(columns=['label', 'date', 'returns_shift'])\n",
    "y_train_q4 = train_q4['label']\n",
    "\n",
    "X_test_q4 = test_q4.drop(columns=['label', 'date', 'returns_shift'])\n",
    "y_test_q4 = test_q4['label']"
   ]
  },
  {
   "cell_type": "markdown",
   "id": "365fdefc-81a7-4679-9af7-560460a3c8ca",
   "metadata": {},
   "source": [
    "### KNeighborsClassifier"
   ]
  },
  {
   "cell_type": "code",
   "execution_count": 74,
   "id": "4c512cf4-e810-434b-b840-d38bb9817123",
   "metadata": {},
   "outputs": [
    {
     "name": "stdout",
     "output_type": "stream",
     "text": [
      "Reporte de test\n",
      "              precision    recall  f1-score   support\n",
      "\n",
      "          -1       0.30      0.83      0.44        18\n",
      "           1       0.77      0.22      0.34        45\n",
      "\n",
      "    accuracy                           0.40        63\n",
      "   macro avg       0.53      0.53      0.39        63\n",
      "weighted avg       0.64      0.40      0.37        63\n",
      "\n"
     ]
    }
   ],
   "source": [
    "knn = KNeighborsClassifier() # n_neighbors=5 (default)\n",
    "knn.fit(X_train_q4, y_train_q4)\n",
    "y_pred_q4_knn = knn.predict(X_test_q4)\n",
    "print('Reporte de test')\n",
    "print(classification_report(y_test_q4, y_pred_q4_knn))"
   ]
  },
  {
   "cell_type": "code",
   "execution_count": 75,
   "id": "fc046616-a856-4144-b9b2-6cb42a1c55bf",
   "metadata": {},
   "outputs": [
    {
     "name": "stdout",
     "output_type": "stream",
     "text": [
      "matriz_confusion = [[15  3]\n",
      " [35 10]]\n"
     ]
    },
    {
     "data": {
      "text/plain": [
       "<sklearn.metrics._plot.confusion_matrix.ConfusionMatrixDisplay at 0x7ff372b9ceb0>"
      ]
     },
     "execution_count": 75,
     "metadata": {},
     "output_type": "execute_result"
    },
    {
     "data": {
      "image/png": "[encoded data removed]",
      "text/plain": [
       "<Figure size 432x288 with 2 Axes>"
      ]
     },
     "metadata": {
      "needs_background": "light"
     },
     "output_type": "display_data"
    }
   ],
   "source": [
    "# Matriz de confusión\n",
    "matriz_knn_q4 = confusion_matrix(y_test_q4, y_pred_q4_knn)\n",
    "print(f'matriz_confusion = {matriz_knn_q4}')\n",
    "plot_confusion_matrix(knn, X_test_q4, y_test_q4)"
   ]
  },
  {
   "cell_type": "markdown",
   "id": "48813975-25e3-4125-ac39-8b9c916676b6",
   "metadata": {},
   "source": [
    "Según el modelo KNN: \n",
    "\n",
    "15 son las predicciones de baja del precio y  coincide  con la realidad. (TN)\n",
    "\n",
    "35 son las predicciones  de baja del precio y en realidad corresponde a una suba del precio.  (FN)\n",
    "\n",
    "3 son las predicciones de suba del precio y en realidad corresponde a una baja del precio. (FP)\n",
    "\n",
    "10 son las predicciones de suba del precio y coincide con la realidad. (TP)"
   ]
  },
  {
   "cell_type": "markdown",
   "id": "559b17b3-a3db-4d43-a62d-55290c80094c",
   "metadata": {},
   "source": [
    "## Finalmente, probar la estrategia\n",
    "\n",
    "Si tomamos la decisión de comprar la acción cuando la etiqueta es +1 y vender (quedarnos con el dinero) cuando la etiqueta es -1 al comienzo de cada día desde el 01/04/2020, cómo nos habrá ido? Supongamos que comenzamos con \\$10.000 y tomemos la diferencia porcentual entre el precio de Cierre del primer día de cada mes para ver si ganamos dinero. Con esto completaríamos un flow de backtesting y vamos a poder evaluar si esta estrategia funciona con la acción MELI.\n",
    "\n",
    "Si hay tiempo, se puede usar esto para otras acciones."
   ]
  },
  {
   "cell_type": "code",
   "execution_count": null,
   "id": "6eb77132-ced3-4af7-977f-734e0178f83a",
   "metadata": {},
   "outputs": [],
   "source": []
  }
 ],
 "metadata": {
  "kernelspec": {
   "display_name": "Python 3",
   "language": "python",
   "name": "python3"
  },
  "language_info": {
   "codemirror_mode": {
    "name": "ipython",
    "version": 3
   },
   "file_extension": ".py",
   "mimetype": "text/x-python",
   "name": "python",
   "nbconvert_exporter": "python",
   "pygments_lexer": "ipython3",
   "version": "3.8.8"
  }
 },
 "nbformat": 4,
 "nbformat_minor": 5
}
