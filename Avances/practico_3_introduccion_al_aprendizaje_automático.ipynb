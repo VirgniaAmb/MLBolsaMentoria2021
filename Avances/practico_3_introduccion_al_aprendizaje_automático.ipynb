{
 "cells": [
  {
   "cell_type": "markdown",
   "id": "conventional-registrar",
   "metadata": {},
   "source": [
    "# Práctico 3 - Introducción al Aprendizaje Automático\n",
    "\n",
    "## Modelos de Precios de Mercado\n",
    "Queremos crear un modelo que prediga si el precio de una acción va a subir o bajar de acuerdo a información del pasado. Para ello implementaremos algunos modelos derivados de la teoria económica respecto de como valuar una activo con flujo de fondos inciertos.\n",
    "\n",
    "\n",
    "### Capital Asset Pricing Model (CAPM)\n",
    "\n",
    "El modelo de CAPM propuesto por William Sharpe a partir del desarrollo de Markowitz sobre carteras eficientes, busca predecir el retorno de un activo en función del comportamiento global del mercado, y de la relación del activo puntual con el mercado. \n",
    "\n",
    "Según este modelo, que se puede expresar de la siguiente manera: \n",
    "\n",
    "$$\n",
    "E(r_i) = r_f + \\beta  [ E(r_m) - r_f ] \n",
    "$$\n",
    "\n",
    "El retorno esperado del activo i, es igual al retorno libre de riesgo (o tasa libre de riesgo), más el exceso de retorno esperado de mercado (es decir lo que se espera que rinda el mercado por sobre la tasa libre de riesgo) escalado por un coeficiente beta. Este coeficiente beta es el conciente entre la covarianza del activo con el mercado sobre la varianza del mercado, y se interpreta como un multiplicador de riesgo de mercado.\n",
    "\n",
    "Pueden ver una explicación completa en: https://economipedia.com/definiciones/modelo-valoracion-activos-financieros-capm.html\n",
    "\n",
    "Adicionalmente, se puede agregar un término independiente como ordenada al origen alfa, que represanta una ganancia extraordinaria no explicada por la relacion con de la acción con el mercado sino por factores extraordinarios o arbitrages en caso de estrategias. De allí el famoso \"buscar alfa\" siendo una directriz de todos los portafolios managers. \n",
    "\n",
    "$$\n",
    "E(r_i) = \\alpha + r_f + \\beta  [ E(r_m) - r_f ]\n",
    "$$\n",
    "\n",
    "Para realizar este ejercicio, deberán descargar el precio de una acción y del mercado asociado (por ejemplo GOOG y NASDAQ). En ambos casos tomar los retornos y tomar una tasa libre de riesgo. A continuación, deberán probar varias regresiones para comprobar el beta, y examinar si el agregado de una ordenada al origen aporta a los resultados. La idea es que seleccionen varias acciones para modelarlo con diferentes activos. \n",
    "\n",
    "Una vez que lo hayan hecho, adionalmente responder las siguientes preguntas:\n",
    "\n",
    "1. ¿Es fácil encontrar $\\alpha$ distinto de cero?\n",
    "\n",
    "2. ¿Qué interpretación le podemos dar a $\\beta$?\n",
    "\n",
    "3. ¿En qué momento nos gustaría buscar activos con $\\beta$ > 1 y $\\beta$ < 1? ¿Qué implica tener un $\\beta$ < 0?\n",
    "\n"
   ]
  },
  {
   "cell_type": "markdown",
   "id": "8f6bfc7b-2e19-493f-a9b3-345cbb080033",
   "metadata": {},
   "source": [
    "1.  \n",
    "\n",
    "2. Beta de un activo financiero: Medida de la sensibilidad del activo respecto a su Benchmark. La interpretación de este parámetro nos permite conocer la variación relativa de la rentabilidad del activo respecto al mercado en que cotiza.\n",
    "La beta se puede calcular a través de una regresión entre la rentabilidad del activo y del mercado. \n",
    "\n",
    "3. \n",
    "\n",
    "- Si la beta se encuentra entre cero y uno, se trataría de un activo defensivo ya que es menos arriesgado que el mercado. Cuando el mercado sube, el activo lo hace con menor intensidad, y viceversa.\n",
    "\n",
    "- Para la cartera de mercado, la beta es igual uno, moviéndose a la par que el índice o benchmark. \n",
    "\n",
    "- En el caso de tener títulos agresivos con beta superior a uno significa que el activo o cartera se mueve en mayor proporción que el benchmark, tanto al alza como a la baja.\n",
    "\n",
    "- Que la beta sea igual a cero quiere decir que la covarianza del activo con respecto al mercado es cero. Esto ocurriría con el activo libre de riesgo, por ejemplo. \n",
    "\n",
    "-  Una beta menor que cero, su covarianza es negativa, se refiere a los títulos cuya correlación con el mercado es inversa. Se trata de activos refugio como por ejemplo el Oro.\n",
    "\n",
    "\n",
    "opcion mas facil\n",
    "\n",
    "- cero: indica que no hay correlación con el índice de referencia elegido (por ejemplo, índice NASDAQ)\n",
    "- uno: indica que una acción tiene la misma volatilidad que el mercado\n",
    "- más de uno:  indica una acción que es más volátil que su índice de referencia\n",
    "- menos de uno: es menos volátil que el índice de referencia\n"
   ]
  },
  {
   "cell_type": "markdown",
   "id": "169b8e36-3cd3-4bed-9359-5d405f7357ed",
   "metadata": {},
   "source": [
    "### 0) Importación de librerías"
   ]
  },
  {
   "cell_type": "code",
   "execution_count": 1,
   "id": "chinese-thirty",
   "metadata": {},
   "outputs": [],
   "source": [
    "import pandas as pd\n",
    "from pandas_datareader import data as pdr\n",
    "import matplotlib.pyplot as plt\n",
    "import yfinance as yf # Agrego esto # pip install yfinance --upgrade --no-cache-dir\n",
    "import numpy as np # Agrego esto\n",
    "import seaborn as sns\n",
    "from datetime import timedelta\n",
    "import statsmodels.api as sm\n",
    "from statsmodels.tsa.ar_model import AR\n",
    "from sklearn.tree import DecisionTreeClassifier, plot_tree\n",
    "from sklearn.model_selection import GridSearchCV, TimeSeriesSplit\n",
    "from sklearn.metrics import accuracy_score, confusion_matrix, classification_report, precision_score, recall_score, f1_score, plot_confusion_matrix\n",
    "from sklearn.linear_model import LinearRegression"
   ]
  },
  {
   "cell_type": "markdown",
   "id": "639db5da-f3ba-4047-a40d-38be12ff0922",
   "metadata": {},
   "source": [
    "### 1) Download dataframe"
   ]
  },
  {
   "cell_type": "code",
   "execution_count": 18,
   "id": "c6fc2ee0-986b-42f8-a435-f2da31b5b431",
   "metadata": {},
   "outputs": [
    {
     "name": "stdout",
     "output_type": "stream",
     "text": [
      "[*********************100%***********************]  2 of 2 completed\n",
      "[*********************100%***********************]  4 of 4 completed\n"
     ]
    }
   ],
   "source": [
    "yf.pdr_override()\n",
    "\n",
    "start_date = \"2000-01-01\"\n",
    "end_date = \"2020-12-31\"\n",
    "\n",
    "df = pdr.get_data_yahoo(\"KO NYA\", start=start_date, end=end_date)\n",
    "df_ndaq = pdr.get_data_yahoo(\"NDAQ GOOG FB AMZN\", start=start_date, end=end_date)\n"
   ]
  },
  {
   "cell_type": "code",
   "execution_count": 3,
   "id": "9c617ccf-00b4-4f9c-a468-b659320bbb6f",
   "metadata": {},
   "outputs": [
    {
     "data": {
      "text/plain": [
       "Adj Close  KO       0\n",
       "           NYA    321\n",
       "Close      KO       0\n",
       "           NYA    321\n",
       "High       KO       0\n",
       "           NYA    321\n",
       "Low        KO       0\n",
       "           NYA    321\n",
       "Open       KO       0\n",
       "           NYA    321\n",
       "Volume     KO       0\n",
       "           NYA    321\n",
       "dtype: int64"
      ]
     },
     "execution_count": 3,
     "metadata": {},
     "output_type": "execute_result"
    }
   ],
   "source": [
    "df.isna().sum()"
   ]
  },
  {
   "cell_type": "code",
   "execution_count": 4,
   "id": "bb643a08-8485-49d1-a337-67e48c603894",
   "metadata": {},
   "outputs": [],
   "source": [
    "data_respaldo = df\n",
    "df.dropna(inplace=True)"
   ]
  },
  {
   "cell_type": "markdown",
   "id": "392c3bfc-bd87-43e4-baa9-d69642edfffc",
   "metadata": {},
   "source": [
    "### 2) Determinación de retornos totales"
   ]
  },
  {
   "cell_type": "code",
   "execution_count": 5,
   "id": "21bf1fa8-4194-439e-823a-925ecd8bcae9",
   "metadata": {},
   "outputs": [
    {
     "data": {
      "text/html": [
       "<div>\n",
       "<style scoped>\n",
       "    .dataframe tbody tr th:only-of-type {\n",
       "        vertical-align: middle;\n",
       "    }\n",
       "\n",
       "    .dataframe tbody tr th {\n",
       "        vertical-align: top;\n",
       "    }\n",
       "\n",
       "    .dataframe thead tr th {\n",
       "        text-align: left;\n",
       "    }\n",
       "\n",
       "    .dataframe thead tr:last-of-type th {\n",
       "        text-align: right;\n",
       "    }\n",
       "</style>\n",
       "<table border=\"1\" class=\"dataframe\">\n",
       "  <thead>\n",
       "    <tr>\n",
       "      <th></th>\n",
       "      <th colspan=\"2\" halign=\"left\">Adj Close</th>\n",
       "      <th colspan=\"2\" halign=\"left\">Close</th>\n",
       "      <th colspan=\"2\" halign=\"left\">High</th>\n",
       "      <th colspan=\"2\" halign=\"left\">Low</th>\n",
       "      <th colspan=\"2\" halign=\"left\">Open</th>\n",
       "      <th colspan=\"2\" halign=\"left\">Volume</th>\n",
       "      <th>retornos_ko</th>\n",
       "      <th>retornos_nya</th>\n",
       "    </tr>\n",
       "    <tr>\n",
       "      <th></th>\n",
       "      <th>KO</th>\n",
       "      <th>NYA</th>\n",
       "      <th>KO</th>\n",
       "      <th>NYA</th>\n",
       "      <th>KO</th>\n",
       "      <th>NYA</th>\n",
       "      <th>KO</th>\n",
       "      <th>NYA</th>\n",
       "      <th>KO</th>\n",
       "      <th>NYA</th>\n",
       "      <th>KO</th>\n",
       "      <th>NYA</th>\n",
       "      <th></th>\n",
       "      <th></th>\n",
       "    </tr>\n",
       "    <tr>\n",
       "      <th>Date</th>\n",
       "      <th></th>\n",
       "      <th></th>\n",
       "      <th></th>\n",
       "      <th></th>\n",
       "      <th></th>\n",
       "      <th></th>\n",
       "      <th></th>\n",
       "      <th></th>\n",
       "      <th></th>\n",
       "      <th></th>\n",
       "      <th></th>\n",
       "      <th></th>\n",
       "      <th></th>\n",
       "      <th></th>\n",
       "    </tr>\n",
       "  </thead>\n",
       "  <tbody>\n",
       "    <tr>\n",
       "      <th>2000-01-03</th>\n",
       "      <td>15.690016</td>\n",
       "      <td>6762.109863</td>\n",
       "      <td>28.18750</td>\n",
       "      <td>6762.109863</td>\n",
       "      <td>29.00000</td>\n",
       "      <td>6762.109863</td>\n",
       "      <td>27.62500</td>\n",
       "      <td>6762.109863</td>\n",
       "      <td>29.00000</td>\n",
       "      <td>6762.109863</td>\n",
       "      <td>10997000</td>\n",
       "      <td>0.0</td>\n",
       "      <td>NaN</td>\n",
       "      <td>NaN</td>\n",
       "    </tr>\n",
       "    <tr>\n",
       "      <th>2000-01-04</th>\n",
       "      <td>15.707405</td>\n",
       "      <td>6543.759766</td>\n",
       "      <td>28.21875</td>\n",
       "      <td>6543.759766</td>\n",
       "      <td>28.40625</td>\n",
       "      <td>6543.759766</td>\n",
       "      <td>27.81250</td>\n",
       "      <td>6543.759766</td>\n",
       "      <td>28.18750</td>\n",
       "      <td>6543.759766</td>\n",
       "      <td>7308000</td>\n",
       "      <td>0.0</td>\n",
       "      <td>0.110830</td>\n",
       "      <td>-3.229023</td>\n",
       "    </tr>\n",
       "    <tr>\n",
       "      <th>2000-01-05</th>\n",
       "      <td>15.846567</td>\n",
       "      <td>6567.029785</td>\n",
       "      <td>28.46875</td>\n",
       "      <td>6567.029785</td>\n",
       "      <td>28.71875</td>\n",
       "      <td>6567.029785</td>\n",
       "      <td>28.03125</td>\n",
       "      <td>6567.029785</td>\n",
       "      <td>28.21875</td>\n",
       "      <td>6567.029785</td>\n",
       "      <td>9457400</td>\n",
       "      <td>0.0</td>\n",
       "      <td>0.885965</td>\n",
       "      <td>0.355606</td>\n",
       "    </tr>\n",
       "    <tr>\n",
       "      <th>2000-01-06</th>\n",
       "      <td>15.863964</td>\n",
       "      <td>6635.439941</td>\n",
       "      <td>28.50000</td>\n",
       "      <td>6635.439941</td>\n",
       "      <td>28.84375</td>\n",
       "      <td>6635.439941</td>\n",
       "      <td>28.28125</td>\n",
       "      <td>6635.439941</td>\n",
       "      <td>28.46875</td>\n",
       "      <td>6635.439941</td>\n",
       "      <td>7129200</td>\n",
       "      <td>0.0</td>\n",
       "      <td>0.109784</td>\n",
       "      <td>1.041721</td>\n",
       "    </tr>\n",
       "    <tr>\n",
       "      <th>2000-01-07</th>\n",
       "      <td>16.907639</td>\n",
       "      <td>6792.669922</td>\n",
       "      <td>30.37500</td>\n",
       "      <td>6792.669922</td>\n",
       "      <td>30.37500</td>\n",
       "      <td>6792.669922</td>\n",
       "      <td>28.93750</td>\n",
       "      <td>6792.669922</td>\n",
       "      <td>28.93750</td>\n",
       "      <td>6792.669922</td>\n",
       "      <td>11474000</td>\n",
       "      <td>0.0</td>\n",
       "      <td>6.578901</td>\n",
       "      <td>2.369549</td>\n",
       "    </tr>\n",
       "  </tbody>\n",
       "</table>\n",
       "</div>"
      ],
      "text/plain": [
       "            Adj Close                  Close                   High  \\\n",
       "                   KO          NYA        KO          NYA        KO   \n",
       "Date                                                                  \n",
       "2000-01-03  15.690016  6762.109863  28.18750  6762.109863  29.00000   \n",
       "2000-01-04  15.707405  6543.759766  28.21875  6543.759766  28.40625   \n",
       "2000-01-05  15.846567  6567.029785  28.46875  6567.029785  28.71875   \n",
       "2000-01-06  15.863964  6635.439941  28.50000  6635.439941  28.84375   \n",
       "2000-01-07  16.907639  6792.669922  30.37500  6792.669922  30.37500   \n",
       "\n",
       "                              Low                   Open               \\\n",
       "                    NYA        KO          NYA        KO          NYA   \n",
       "Date                                                                    \n",
       "2000-01-03  6762.109863  27.62500  6762.109863  29.00000  6762.109863   \n",
       "2000-01-04  6543.759766  27.81250  6543.759766  28.18750  6543.759766   \n",
       "2000-01-05  6567.029785  28.03125  6567.029785  28.21875  6567.029785   \n",
       "2000-01-06  6635.439941  28.28125  6635.439941  28.46875  6635.439941   \n",
       "2000-01-07  6792.669922  28.93750  6792.669922  28.93750  6792.669922   \n",
       "\n",
       "              Volume      retornos_ko retornos_nya  \n",
       "                  KO  NYA                           \n",
       "Date                                                \n",
       "2000-01-03  10997000  0.0         NaN          NaN  \n",
       "2000-01-04   7308000  0.0    0.110830    -3.229023  \n",
       "2000-01-05   9457400  0.0    0.885965     0.355606  \n",
       "2000-01-06   7129200  0.0    0.109784     1.041721  \n",
       "2000-01-07  11474000  0.0    6.578901     2.369549  "
      ]
     },
     "execution_count": 5,
     "metadata": {},
     "output_type": "execute_result"
    }
   ],
   "source": [
    "df['retornos_ko'] = df['Adj Close', 'KO'].pct_change()*100\n",
    "df['retornos_nya'] = df['Adj Close','NYA'].pct_change()*100\n",
    "df.head()"
   ]
  },
  {
   "cell_type": "code",
   "execution_count": 6,
   "id": "e0247f3f-2dcc-40c6-8a6f-736020dc662d",
   "metadata": {},
   "outputs": [
    {
     "data": {
      "text/html": [
       "<div>\n",
       "<style scoped>\n",
       "    .dataframe tbody tr th:only-of-type {\n",
       "        vertical-align: middle;\n",
       "    }\n",
       "\n",
       "    .dataframe tbody tr th {\n",
       "        vertical-align: top;\n",
       "    }\n",
       "\n",
       "    .dataframe thead th {\n",
       "        text-align: right;\n",
       "    }\n",
       "</style>\n",
       "<table border=\"1\" class=\"dataframe\">\n",
       "  <thead>\n",
       "    <tr style=\"text-align: right;\">\n",
       "      <th></th>\n",
       "      <th>Date</th>\n",
       "      <th>retornos_ko</th>\n",
       "      <th>retornos_nya</th>\n",
       "    </tr>\n",
       "  </thead>\n",
       "  <tbody>\n",
       "    <tr>\n",
       "      <th>1</th>\n",
       "      <td>2000-01-04</td>\n",
       "      <td>0.110830</td>\n",
       "      <td>-3.229023</td>\n",
       "    </tr>\n",
       "    <tr>\n",
       "      <th>2</th>\n",
       "      <td>2000-01-05</td>\n",
       "      <td>0.885965</td>\n",
       "      <td>0.355606</td>\n",
       "    </tr>\n",
       "    <tr>\n",
       "      <th>3</th>\n",
       "      <td>2000-01-06</td>\n",
       "      <td>0.109784</td>\n",
       "      <td>1.041721</td>\n",
       "    </tr>\n",
       "    <tr>\n",
       "      <th>4</th>\n",
       "      <td>2000-01-07</td>\n",
       "      <td>6.578901</td>\n",
       "      <td>2.369549</td>\n",
       "    </tr>\n",
       "    <tr>\n",
       "      <th>5</th>\n",
       "      <td>2000-01-10</td>\n",
       "      <td>-3.189248</td>\n",
       "      <td>0.673966</td>\n",
       "    </tr>\n",
       "  </tbody>\n",
       "</table>\n",
       "</div>"
      ],
      "text/plain": [
       "        Date  retornos_ko  retornos_nya\n",
       "1 2000-01-04     0.110830     -3.229023\n",
       "2 2000-01-05     0.885965      0.355606\n",
       "3 2000-01-06     0.109784      1.041721\n",
       "4 2000-01-07     6.578901      2.369549\n",
       "5 2000-01-10    -3.189248      0.673966"
      ]
     },
     "execution_count": 6,
     "metadata": {},
     "output_type": "execute_result"
    }
   ],
   "source": [
    "df_retornos = pd.concat([df['retornos_ko'], df['retornos_nya']], axis=1, keys=['retornos_ko', 'retornos_nya'])\n",
    "\n",
    "# Reseteo MultiIndex y renombro columnas\n",
    "df_retornos = df_retornos.reset_index(level='Date') # Reseteo MultiIndex (Date en este caso y la guardaré como columna)v\n",
    "\n",
    "df_retornos.dropna(inplace=True) # descarto fechas en que tengo NaN en algún retorno\n",
    "df_retornos.head()"
   ]
  },
  {
   "cell_type": "markdown",
   "id": "cb605eb1-e61d-43df-aa1a-603c5c9cd801",
   "metadata": {},
   "source": [
    "El dataset `df_retornos` sera el dataset de `train + test`"
   ]
  },
  {
   "cell_type": "code",
   "execution_count": 7,
   "id": "4a3fda5e-92a8-4b3b-86a9-71730a73f9e0",
   "metadata": {},
   "outputs": [
    {
     "data": {
      "image/png": "[encoded data removed]",
      "text/plain": [
       "<Figure size 432x288 with 1 Axes>"
      ]
     },
     "metadata": {
      "needs_background": "light"
     },
     "output_type": "display_data"
    }
   ],
   "source": [
    "ax = sns.scatterplot(data=df_retornos, x='retornos_ko', y='retornos_nya')"
   ]
  },
  {
   "cell_type": "markdown",
   "id": "5e6cafdc-5fc0-404f-b402-096d89419b50",
   "metadata": {},
   "source": [
    "$$ E(r_i) = \\alpha + r_f + \\beta  [ E(r_m) - r_f ]  $$\n",
    "\n",
    "- E(r_i): rentabilidad esperada del activo\n",
    "- alpha: ordenada al origin: representa una ganancia extraordinaria\n",
    "- r_f: rentabilidad activo sin riesgo (riskfree)\n",
    "- beta: sensibilidad del activo respecto a su benchmark (correlacion entre los retornos del activo y del mercado)\n",
    "- E(r_m): tasa rentabilidad esperada del mercado en el que cotiza el activo\n",
    "\n",
    "- r_m - r_f : riesgo asociado al mercado en el que cotiza el activo\n",
    "- r_i -  r_f : riesgo asociado al activo en concreto\n",
    "\n",
    "$$ E(r_i)  - r_f = \\alpha + \\beta [ E(r_m) - r_f ]  $$\n",
    "$$ retornos del activo = \\alpha + \\beta (retornos del mercado) $$\n",
    "$$ y_i = \\alpha + \\beta (x_i) $$"
   ]
  },
  {
   "cell_type": "markdown",
   "id": "0def4185-c13d-4779-b32b-4f78ba06ee53",
   "metadata": {},
   "source": [
    "### opcion 1 ) Determinación de beta: mediante Statsmodels: Ordinary Least Square (mínimos cuadrados)"
   ]
  },
  {
   "cell_type": "code",
   "execution_count": 8,
   "id": "875dff0f-633b-4943-bfc3-b89325356e27",
   "metadata": {},
   "outputs": [
    {
     "name": "stdout",
     "output_type": "stream",
     "text": [
      "                            OLS Regression Results                            \n",
      "==============================================================================\n",
      "Dep. Variable:            retornos_ko   R-squared:                       0.293\n",
      "Model:                            OLS   Adj. R-squared:                  0.293\n",
      "Method:                 Least Squares   F-statistic:                     2059.\n",
      "Date:                Sun, 22 Aug 2021   Prob (F-statistic):               0.00\n",
      "Time:                        21:18:32   Log-Likelihood:                -7787.3\n",
      "No. Observations:                4961   AIC:                         1.558e+04\n",
      "Df Residuals:                    4959   BIC:                         1.559e+04\n",
      "Df Model:                           1                                         \n",
      "Covariance Type:            nonrobust                                         \n",
      "================================================================================\n",
      "                   coef    std err          t      P>|t|      [0.025      0.975]\n",
      "--------------------------------------------------------------------------------\n",
      "const            0.0206      0.017      1.246      0.213      -0.012       0.053\n",
      "retornos_nya     0.5790      0.013     45.373      0.000       0.554       0.604\n",
      "==============================================================================\n",
      "Omnibus:                      804.118   Durbin-Watson:                   1.967\n",
      "Prob(Omnibus):                  0.000   Jarque-Bera (JB):            15590.488\n",
      "Skew:                          -0.003   Prob(JB):                         0.00\n",
      "Kurtosis:                      11.685   Cond. No.                         1.30\n",
      "==============================================================================\n",
      "\n",
      "Notes:\n",
      "[1] Standard Errors assume that the covariance matrix of the errors is correctly specified.\n"
     ]
    }
   ],
   "source": [
    "# split dependent and independent variable\n",
    "X = df_retornos['retornos_nya']\n",
    "y = df_retornos['retornos_ko']\n",
    "\n",
    "# Add a constant to the independent value\n",
    "X1 = sm.add_constant(X)\n",
    "\n",
    "# make regression model \n",
    "model = sm.OLS(y, X1)\n",
    "\n",
    "# fit model and print results\n",
    "results = model.fit()\n",
    "print(results.summary())"
   ]
  },
  {
   "cell_type": "markdown",
   "id": "e201ee71-0bdf-4101-8dde-5bb211fe6fa3",
   "metadata": {},
   "source": [
    "El beta calculado mediante Statsmodels: Ordinary Least Square arroja un resultado de: Beta = 0,5790"
   ]
  },
  {
   "cell_type": "code",
   "execution_count": 9,
   "id": "533da3db-56e3-416e-bb3a-a72ff866d2b2",
   "metadata": {},
   "outputs": [],
   "source": [
    "df_ret = pd.concat([df['retornos_ko'], df['retornos_nya']], axis=1, keys=['retornos_ko', 'retornos_nya'])"
   ]
  },
  {
   "cell_type": "code",
   "execution_count": 10,
   "id": "c2c51e68-f5f7-4008-b7ce-eeb94c33687d",
   "metadata": {},
   "outputs": [
    {
     "data": {
      "text/html": [
       "<div>\n",
       "<style scoped>\n",
       "    .dataframe tbody tr th:only-of-type {\n",
       "        vertical-align: middle;\n",
       "    }\n",
       "\n",
       "    .dataframe tbody tr th {\n",
       "        vertical-align: top;\n",
       "    }\n",
       "\n",
       "    .dataframe thead th {\n",
       "        text-align: right;\n",
       "    }\n",
       "</style>\n",
       "<table border=\"1\" class=\"dataframe\">\n",
       "  <thead>\n",
       "    <tr style=\"text-align: right;\">\n",
       "      <th></th>\n",
       "      <th>retornos_ko</th>\n",
       "      <th>retornos_nya</th>\n",
       "    </tr>\n",
       "    <tr>\n",
       "      <th>Date</th>\n",
       "      <th></th>\n",
       "      <th></th>\n",
       "    </tr>\n",
       "  </thead>\n",
       "  <tbody>\n",
       "    <tr>\n",
       "      <th>2000-01-03</th>\n",
       "      <td>0.000000</td>\n",
       "      <td>0.000000</td>\n",
       "    </tr>\n",
       "    <tr>\n",
       "      <th>2000-01-04</th>\n",
       "      <td>0.110830</td>\n",
       "      <td>-3.229023</td>\n",
       "    </tr>\n",
       "    <tr>\n",
       "      <th>2000-01-05</th>\n",
       "      <td>0.885965</td>\n",
       "      <td>0.355606</td>\n",
       "    </tr>\n",
       "    <tr>\n",
       "      <th>2000-01-06</th>\n",
       "      <td>0.109784</td>\n",
       "      <td>1.041721</td>\n",
       "    </tr>\n",
       "    <tr>\n",
       "      <th>2000-01-07</th>\n",
       "      <td>6.578901</td>\n",
       "      <td>2.369549</td>\n",
       "    </tr>\n",
       "  </tbody>\n",
       "</table>\n",
       "</div>"
      ],
      "text/plain": [
       "            retornos_ko  retornos_nya\n",
       "Date                                 \n",
       "2000-01-03     0.000000      0.000000\n",
       "2000-01-04     0.110830     -3.229023\n",
       "2000-01-05     0.885965      0.355606\n",
       "2000-01-06     0.109784      1.041721\n",
       "2000-01-07     6.578901      2.369549"
      ]
     },
     "execution_count": 10,
     "metadata": {},
     "output_type": "execute_result"
    }
   ],
   "source": [
    "df_ret = df_ret.replace(np.nan, 0)\n",
    "df_ret.head()"
   ]
  },
  {
   "cell_type": "code",
   "execution_count": 11,
   "id": "46bf2d89-d4db-46e2-a579-a447650c73ca",
   "metadata": {},
   "outputs": [
    {
     "name": "stdout",
     "output_type": "stream",
     "text": [
      "Fold: 0\n",
      "TRAIN indices: [   0    1    2 ... 1651 1652 1653] \n",
      " TEST indices: [1654 1655 1656 ... 3305 3306 3307]\n",
      "\n",
      "\n",
      " el beta es igual a: [0.55138433]\n",
      "Fold: 1\n",
      "TRAIN indices: [   0    1    2 ... 3305 3306 3307] \n",
      " TEST indices: [3308 3309 3310 ... 4959 4960 4961]\n",
      "\n",
      "\n",
      " el beta es igual a: [0.52828159]\n"
     ]
    }
   ],
   "source": [
    "# TimeSeriesSplit\n",
    "X = df_ret['retornos_nya']\n",
    "y = df_ret['retornos_ko']\n",
    "\n",
    "\n",
    "tscv = TimeSeriesSplit(n_splits=2)\n",
    "# print(tscv) # TimeSeriesSplit(gap=0, max_train_size=None, n_splits=5, test_size=None)\n",
    "\n",
    "for fold, (train_index, test_index) in enumerate(tscv.split(X)):\n",
    "    print(\"Fold: {}\".format(fold))\n",
    "    print(\"TRAIN indices:\", train_index, \"\\n\", \"TEST indices:\", test_index)\n",
    "    print(\"\\n\")\n",
    "    X_train, X_test = X[train_index], X[test_index]\n",
    "    y_train, y_test = y[train_index], y[test_index]\n",
    "    lr = LinearRegression()\n",
    "    lr.fit(X_train.values.reshape(-1, 1), y_train)\n",
    "    print(f' el beta es igual a: {lr.coef_}')\n",
    "    "
   ]
  },
  {
   "cell_type": "code",
   "execution_count": 19,
   "id": "3324140c-03ef-4d4b-8429-fba68e4544ae",
   "metadata": {
    "collapsed": true,
    "jupyter": {
     "outputs_hidden": true
    },
    "tags": []
   },
   "outputs": [
    {
     "data": {
      "text/plain": [
       "Adj Close  AMZN       0\n",
       "           FB      3114\n",
       "           GOOG    1162\n",
       "           NDAQ     626\n",
       "Close      AMZN       0\n",
       "           FB      3114\n",
       "           GOOG    1162\n",
       "           NDAQ     626\n",
       "High       AMZN       0\n",
       "           FB      3114\n",
       "           GOOG    1162\n",
       "           NDAQ     626\n",
       "Low        AMZN       0\n",
       "           FB      3114\n",
       "           GOOG    1162\n",
       "           NDAQ     626\n",
       "Open       AMZN       0\n",
       "           FB      3114\n",
       "           GOOG    1162\n",
       "           NDAQ     626\n",
       "Volume     AMZN       0\n",
       "           FB      3114\n",
       "           GOOG    1162\n",
       "           NDAQ     626\n",
       "dtype: int64"
      ]
     },
     "execution_count": 19,
     "metadata": {},
     "output_type": "execute_result"
    }
   ],
   "source": [
    "df_ndaq.isna().sum()"
   ]
  },
  {
   "cell_type": "code",
   "execution_count": 20,
   "id": "78743360-fa7e-4ca5-92cb-f8b7326e44bc",
   "metadata": {},
   "outputs": [],
   "source": [
    "df_respaldo = df_ndaq\n",
    "df_ndaq.dropna(inplace=True)"
   ]
  },
  {
   "cell_type": "code",
   "execution_count": 21,
   "id": "2a48bbf7-816e-43e8-bead-e0b8fad8643d",
   "metadata": {
    "tags": []
   },
   "outputs": [],
   "source": [
    "df_ndaq['returns_ndaq'] = df_ndaq['Adj Close', 'NDAQ'].pct_change()*100\n",
    "df_ndaq['returns_goog'] = df_ndaq['Adj Close','GOOG'].pct_change()*100\n",
    "df_ndaq['returns_fb'] = df_ndaq['Adj Close','FB'].pct_change()*100           \n",
    "df_ndaq['returns_amzn'] = df_ndaq['Adj Close','AMZN'].pct_change()*100"
   ]
  },
  {
   "cell_type": "code",
   "execution_count": 22,
   "id": "e48aca38-e07a-4bd2-a09f-76e4e48138ed",
   "metadata": {},
   "outputs": [
    {
     "data": {
      "text/html": [
       "<div>\n",
       "<style scoped>\n",
       "    .dataframe tbody tr th:only-of-type {\n",
       "        vertical-align: middle;\n",
       "    }\n",
       "\n",
       "    .dataframe tbody tr th {\n",
       "        vertical-align: top;\n",
       "    }\n",
       "\n",
       "    .dataframe thead th {\n",
       "        text-align: right;\n",
       "    }\n",
       "</style>\n",
       "<table border=\"1\" class=\"dataframe\">\n",
       "  <thead>\n",
       "    <tr style=\"text-align: right;\">\n",
       "      <th></th>\n",
       "      <th>returns_ndaq</th>\n",
       "      <th>returns_goog</th>\n",
       "      <th>returns_fb</th>\n",
       "      <th>returns_amzn</th>\n",
       "    </tr>\n",
       "    <tr>\n",
       "      <th>Date</th>\n",
       "      <th></th>\n",
       "      <th></th>\n",
       "      <th></th>\n",
       "      <th></th>\n",
       "    </tr>\n",
       "  </thead>\n",
       "  <tbody>\n",
       "    <tr>\n",
       "      <th>2012-05-18</th>\n",
       "      <td>NaN</td>\n",
       "      <td>NaN</td>\n",
       "      <td>NaN</td>\n",
       "      <td>NaN</td>\n",
       "    </tr>\n",
       "    <tr>\n",
       "      <th>2012-05-21</th>\n",
       "      <td>3.592556</td>\n",
       "      <td>2.283479</td>\n",
       "      <td>-10.986139</td>\n",
       "      <td>1.992048</td>\n",
       "    </tr>\n",
       "    <tr>\n",
       "      <th>2012-05-22</th>\n",
       "      <td>-2.019339</td>\n",
       "      <td>-2.167367</td>\n",
       "      <td>-8.903905</td>\n",
       "      <td>-1.274586</td>\n",
       "    </tr>\n",
       "    <tr>\n",
       "      <th>2012-05-23</th>\n",
       "      <td>-2.284927</td>\n",
       "      <td>1.441415</td>\n",
       "      <td>3.225806</td>\n",
       "      <td>0.905585</td>\n",
       "    </tr>\n",
       "    <tr>\n",
       "      <th>2012-05-24</th>\n",
       "      <td>-0.045837</td>\n",
       "      <td>-0.951669</td>\n",
       "      <td>3.218746</td>\n",
       "      <td>-0.938878</td>\n",
       "    </tr>\n",
       "  </tbody>\n",
       "</table>\n",
       "</div>"
      ],
      "text/plain": [
       "            returns_ndaq  returns_goog  returns_fb  returns_amzn\n",
       "Date                                                            \n",
       "2012-05-18           NaN           NaN         NaN           NaN\n",
       "2012-05-21      3.592556      2.283479  -10.986139      1.992048\n",
       "2012-05-22     -2.019339     -2.167367   -8.903905     -1.274586\n",
       "2012-05-23     -2.284927      1.441415    3.225806      0.905585\n",
       "2012-05-24     -0.045837     -0.951669    3.218746     -0.938878"
      ]
     },
     "execution_count": 22,
     "metadata": {},
     "output_type": "execute_result"
    }
   ],
   "source": [
    "df_returns = pd.concat([df_ndaq['returns_ndaq'], df_ndaq['returns_goog'], df_ndaq['returns_fb'], df_ndaq['returns_amzn']], \n",
    "                       axis=1, keys=['returns_ndaq', 'returns_goog', 'returns_fb', 'returns_amzn'])\n",
    "df_returns.head()"
   ]
  },
  {
   "cell_type": "code",
   "execution_count": 24,
   "id": "2e110d76-30e9-4b16-845f-6b8c962b4374",
   "metadata": {},
   "outputs": [
    {
     "data": {
      "text/html": [
       "<div>\n",
       "<style scoped>\n",
       "    .dataframe tbody tr th:only-of-type {\n",
       "        vertical-align: middle;\n",
       "    }\n",
       "\n",
       "    .dataframe tbody tr th {\n",
       "        vertical-align: top;\n",
       "    }\n",
       "\n",
       "    .dataframe thead th {\n",
       "        text-align: right;\n",
       "    }\n",
       "</style>\n",
       "<table border=\"1\" class=\"dataframe\">\n",
       "  <thead>\n",
       "    <tr style=\"text-align: right;\">\n",
       "      <th></th>\n",
       "      <th>returns_ndaq</th>\n",
       "      <th>returns_goog</th>\n",
       "      <th>returns_fb</th>\n",
       "      <th>returns_amzn</th>\n",
       "    </tr>\n",
       "    <tr>\n",
       "      <th>Date</th>\n",
       "      <th></th>\n",
       "      <th></th>\n",
       "      <th></th>\n",
       "      <th></th>\n",
       "    </tr>\n",
       "  </thead>\n",
       "  <tbody>\n",
       "    <tr>\n",
       "      <th>2012-05-18</th>\n",
       "      <td>0.000000</td>\n",
       "      <td>0.000000</td>\n",
       "      <td>0.000000</td>\n",
       "      <td>0.000000</td>\n",
       "    </tr>\n",
       "    <tr>\n",
       "      <th>2012-05-21</th>\n",
       "      <td>3.592556</td>\n",
       "      <td>2.283479</td>\n",
       "      <td>-10.986139</td>\n",
       "      <td>1.992048</td>\n",
       "    </tr>\n",
       "    <tr>\n",
       "      <th>2012-05-22</th>\n",
       "      <td>-2.019339</td>\n",
       "      <td>-2.167367</td>\n",
       "      <td>-8.903905</td>\n",
       "      <td>-1.274586</td>\n",
       "    </tr>\n",
       "    <tr>\n",
       "      <th>2012-05-23</th>\n",
       "      <td>-2.284927</td>\n",
       "      <td>1.441415</td>\n",
       "      <td>3.225806</td>\n",
       "      <td>0.905585</td>\n",
       "    </tr>\n",
       "    <tr>\n",
       "      <th>2012-05-24</th>\n",
       "      <td>-0.045837</td>\n",
       "      <td>-0.951669</td>\n",
       "      <td>3.218746</td>\n",
       "      <td>-0.938878</td>\n",
       "    </tr>\n",
       "  </tbody>\n",
       "</table>\n",
       "</div>"
      ],
      "text/plain": [
       "            returns_ndaq  returns_goog  returns_fb  returns_amzn\n",
       "Date                                                            \n",
       "2012-05-18      0.000000      0.000000    0.000000      0.000000\n",
       "2012-05-21      3.592556      2.283479  -10.986139      1.992048\n",
       "2012-05-22     -2.019339     -2.167367   -8.903905     -1.274586\n",
       "2012-05-23     -2.284927      1.441415    3.225806      0.905585\n",
       "2012-05-24     -0.045837     -0.951669    3.218746     -0.938878"
      ]
     },
     "execution_count": 24,
     "metadata": {},
     "output_type": "execute_result"
    }
   ],
   "source": [
    "df_returns = df_returns.replace(np.nan, 0)\n",
    "df_returns.head()"
   ]
  },
  {
   "cell_type": "code",
   "execution_count": null,
   "id": "33a0bf50-e927-4eae-820c-d2ff66e701ae",
   "metadata": {},
   "outputs": [],
   "source": [
    "# TimeSeriesSplit\n",
    "X = df_returns['retornos_nya']\n",
    "y = df_returns['retornos_ko']\n",
    "\n",
    "\n",
    "tscv = TimeSeriesSplit(n_splits=2)\n",
    "# print(tscv) # TimeSeriesSplit(gap=0, max_train_size=None, n_splits=5, test_size=None)\n",
    "\n",
    "for fold, (train_index, test_index) in enumerate(tscv.split(X)):\n",
    "    print(\"Fold: {}\".format(fold))\n",
    "    print(\"TRAIN indices:\", train_index, \"\\n\", \"TEST indices:\", test_index)\n",
    "    print(\"\\n\")\n",
    "    X_train, X_test = X[train_index], X[test_index]\n",
    "    y_train, y_test = y[train_index], y[test_index]\n",
    "    lr = LinearRegression()\n",
    "    lr.fit(X_train.values.reshape(-1, 1), y_train)\n",
    "    print(f' el beta es igual a: {lr.coef_}')\n",
    "    "
   ]
  },
  {
   "cell_type": "code",
   "execution_count": null,
   "id": "cad66340-4d76-4cd9-b45a-0282e4f74c76",
   "metadata": {},
   "outputs": [],
   "source": []
  },
  {
   "cell_type": "markdown",
   "id": "0d212849-f0ee-4c91-83b9-01c2e8fe7cc4",
   "metadata": {},
   "source": [
    "### Graficación"
   ]
  },
  {
   "cell_type": "code",
   "execution_count": 13,
   "id": "22a81c41-e3d9-4306-91cb-e38a59786189",
   "metadata": {
    "tags": []
   },
   "outputs": [
    {
     "ename": "NameError",
     "evalue": "name 'x_i' is not defined",
     "output_type": "error",
     "traceback": [
      "\u001b[0;31m---------------------------------------------------------------------------\u001b[0m",
      "\u001b[0;31mNameError\u001b[0m                                 Traceback (most recent call last)",
      "\u001b[0;32m<ipython-input-13-8898f6b1473b>\u001b[0m in \u001b[0;36m<module>\u001b[0;34m\u001b[0m\n\u001b[1;32m      1\u001b[0m \u001b[0mplt\u001b[0m\u001b[0;34m.\u001b[0m\u001b[0mfigure\u001b[0m\u001b[0;34m(\u001b[0m\u001b[0mfigsize\u001b[0m\u001b[0;34m=\u001b[0m\u001b[0;34m(\u001b[0m\u001b[0;36m6\u001b[0m\u001b[0;34m,\u001b[0m \u001b[0;36m6\u001b[0m\u001b[0;34m)\u001b[0m\u001b[0;34m)\u001b[0m\u001b[0;34m\u001b[0m\u001b[0;34m\u001b[0m\u001b[0m\n\u001b[1;32m      2\u001b[0m \u001b[0mplt\u001b[0m\u001b[0;34m.\u001b[0m\u001b[0mscatter\u001b[0m\u001b[0;34m(\u001b[0m\u001b[0mdata\u001b[0m\u001b[0;34m=\u001b[0m\u001b[0mdf_retornos\u001b[0m\u001b[0;34m,\u001b[0m \u001b[0mx\u001b[0m\u001b[0;34m=\u001b[0m\u001b[0;34m'retornos_ko'\u001b[0m\u001b[0;34m,\u001b[0m \u001b[0my\u001b[0m\u001b[0;34m=\u001b[0m\u001b[0;34m'retornos_nya'\u001b[0m\u001b[0;34m,\u001b[0m \u001b[0mcolor\u001b[0m\u001b[0;34m=\u001b[0m\u001b[0;34m\"blue\"\u001b[0m\u001b[0;34m,\u001b[0m \u001b[0mlabel\u001b[0m\u001b[0;34m=\u001b[0m\u001b[0;34m'train'\u001b[0m\u001b[0;34m)\u001b[0m\u001b[0;34m\u001b[0m\u001b[0;34m\u001b[0m\u001b[0m\n\u001b[0;32m----> 3\u001b[0;31m \u001b[0mplt\u001b[0m\u001b[0;34m.\u001b[0m\u001b[0mplot\u001b[0m\u001b[0;34m(\u001b[0m\u001b[0mx_i\u001b[0m\u001b[0;34m,\u001b[0m \u001b[0my_i_pred\u001b[0m\u001b[0;34m,\u001b[0m \u001b[0mcolor\u001b[0m\u001b[0;34m=\u001b[0m\u001b[0;34m'red'\u001b[0m\u001b[0;34m,\u001b[0m \u001b[0mlabel\u001b[0m\u001b[0;34m=\u001b[0m\u001b[0;34m'model'\u001b[0m\u001b[0;34m)\u001b[0m\u001b[0;34m\u001b[0m\u001b[0;34m\u001b[0m\u001b[0m\n\u001b[0m\u001b[1;32m      4\u001b[0m \u001b[0mplt\u001b[0m\u001b[0;34m.\u001b[0m\u001b[0mlegend\u001b[0m\u001b[0;34m(\u001b[0m\u001b[0;34m)\u001b[0m\u001b[0;34m\u001b[0m\u001b[0;34m\u001b[0m\u001b[0m\n",
      "\u001b[0;31mNameError\u001b[0m: name 'x_i' is not defined"
     ]
    },
    {
     "data": {
      "image/png": "[encoded data removed]",
      "text/plain": [
       "<Figure size 432x432 with 1 Axes>"
      ]
     },
     "metadata": {
      "needs_background": "light"
     },
     "output_type": "display_data"
    }
   ],
   "source": [
    "plt.figure(figsize=(6, 6))\n",
    "plt.scatter(data=df_retornos, x='retornos_ko', y='retornos_nya', color=\"blue\", label='train')\n",
    "plt.plot(x_i, y_i_pred, color='red', label='model')\n",
    "plt.legend()"
   ]
  },
  {
   "cell_type": "code",
   "execution_count": null,
   "id": "062fb1d6-039e-49a2-9934-4eb16cbbdffc",
   "metadata": {},
   "outputs": [],
   "source": [
    "plt.scatter(X_train, y_train, color=\"blue\", label=\"train\")\n",
    "plt.scatter(X_val, y_val, color=\"white\", edgecolor=\"k\", label=\"validation\")\n",
    "plt.plot(X_val, f(X_val, w), color=\"red\", label=\"model\")\n",
    "plt.legend()\n",
    "plt.show()"
   ]
  },
  {
   "cell_type": "markdown",
   "id": "2fc96d29-a984-4d48-8c0b-d5d452513a04",
   "metadata": {},
   "source": [
    "### Evaluación en entrenamiento: Error Cuadrático Medio"
   ]
  },
  {
   "cell_type": "markdown",
   "id": "2e69ff16-9324-4f20-8868-4f1d63d53ba9",
   "metadata": {},
   "source": [
    "Se obtienen los valores predichos para los datos de entrenamiento y de validación. Calcularemos el error cuadrático medio sobre ambos conjuntos de datos. Luego haremos la predicción sobre el conjunto de testeo y calcularemos también el erro cuadrático medio.\n",
    "\n"
   ]
  },
  {
   "cell_type": "code",
   "execution_count": null,
   "id": "853abeda-207d-4681-9bc1-635571032a0d",
   "metadata": {},
   "outputs": [],
   "source": [
    "y_train_pred = f(X_train, w, add_bias=False)\n",
    "y_val_pred = f(X_val, w, add_bias=False)"
   ]
  },
  {
   "cell_type": "code",
   "execution_count": null,
   "id": "4eaad669-5172-4af5-b0ba-49a493e399f6",
   "metadata": {},
   "outputs": [],
   "source": [
    "from sklearn.metrics import mean_squared_error\n",
    "\n",
    "train_error = mean_squared_error(y_train, y_train_pred)\n",
    "val_error = mean_squared_error(y_val, y_val_pred)\n",
    "print(f'Train error: {train_error:f}')\n",
    "print(f'Val error: {val_error:f}')"
   ]
  },
  {
   "cell_type": "markdown",
   "id": "ab26a265-c177-4bf8-88f8-704ac82e8050",
   "metadata": {},
   "source": [
    "### Predicción y evaluación: Error Cuadrático Medio"
   ]
  },
  {
   "cell_type": "code",
   "execution_count": null,
   "id": "956fe1eb-86dd-44a9-8f0b-69dff8605239",
   "metadata": {},
   "outputs": [],
   "source": [
    "y_train_pred = f(X_train, w, add_bias=False)\n",
    "y_test_pred = f(X_test, w, add_bias=False)"
   ]
  },
  {
   "cell_type": "code",
   "execution_count": null,
   "id": "37b301d8-24f4-4492-8d54-f52f67d74924",
   "metadata": {},
   "outputs": [],
   "source": [
    "from sklearn.metrics import mean_squared_error\n",
    "\n",
    "train_error = mean_squared_error(y_train, y_train_pred)\n",
    "test_error = mean_squared_error(y_test, y_test_pred)\n",
    "print(f'Train error: {train_error:f}')\n",
    "print(f'Val error: {test_error:f}')"
   ]
  },
  {
   "cell_type": "code",
   "execution_count": null,
   "id": "29e6212d-64d6-4743-96fa-20036b660e1c",
   "metadata": {},
   "outputs": [],
   "source": [
    "# CONSULTAR POR QUE DAN IGUAL??? ESTÁ BIEN PLANTEADO CONCEPTUALMENTE EL CALCULO DE ERROR DE VALIDACION Y TEST???"
   ]
  },
  {
   "cell_type": "markdown",
   "id": "novel-double",
   "metadata": {},
   "source": [
    "### Modelos Autorregresivos para predecir precios.\n",
    "\n",
    "Para esta parte del práctico, nos gustaría utilizar precios del pasado para poder estimar cuál va a ser el precio de una acción más adelante. Las regresiones que vemos en la introducción al aprendizaje automático no son las mismas que deben usarse cuando estamos trabajando con precios de mercado, ya que estos datos son series de tiempo. Para trabajar con este tipo de datos, es necesario generar **modelos autorregresivos**.\n",
    "\n",
    "Si suponemos que $y_t$ es el precio de nuestra acción en el tiempo $t$, podemos generar el siguiente modelo autorregresivo:\n",
    "\n",
    "$$\n",
    "y_t = \\delta + \\phi_1 y_{t-1} + \\dots + \\phi_p y_{t-p} + \\epsilon_t\n",
    "$$\n",
    "\n",
    "Existen otras variables que podemos agregar (como estacionariedad o tendencias), pero para este práctico podemos usar solamente el modelo `AutoReg` de la librería StatsModels: https://www.statsmodels.org/stable/examples/notebooks/generated/autoregressions.html.\n",
    "\n",
    "El **ejercicio** para esta sección es crear una función que reciba 4 parámetros:\n",
    "- El *ticker* de un activo.\n",
    "- Una *fecha* a partir de la cual se van a querer predecir los precios del activo.\n",
    "- Un *número de días* hacia atrás que se van a usar para ajustar el modelo autorregresivo.\n",
    "- Un *número de días* hacia adelante para los cuales van a querer predecir el precio del activo utilizando el modelo entrenado.\n",
    "\n",
    "Esta función se debe encargar de buscar los precios del ticker, realizar el ajuste y predecir el precio de la acción hacia delante. Además, debe devolver el [error cuadrático medio](https://es.wikipedia.org/wiki/Error_cuadr%C3%A1tico_medio) de la predicción, comparado con los verdaderos precios del activo.\n",
    "\n",
    "¿Qué pasa si tratamos de predecir el precio del SPY el día antes del primer cisne negro de 2020 con un modelo que use 15 días hacia atrás?"
   ]
  },
  {
   "cell_type": "markdown",
   "id": "daff9b1b-90a4-4be6-bf31-a8db0513738b",
   "metadata": {},
   "source": [
    "### 0) Importación de datos"
   ]
  },
  {
   "cell_type": "code",
   "execution_count": null,
   "id": "fabulous-empty",
   "metadata": {
    "tags": []
   },
   "outputs": [],
   "source": [
    "yf.pdr_override()\n",
    "\n",
    "start_date = \"2000-01-01\"\n",
    "end_date = \"2020-12-31\"\n",
    "\n",
    "df = pdr.get_data_yahoo(\"SPY\", start=start_date, end=end_date)\n",
    "\n",
    "df.head(10)"
   ]
  },
  {
   "cell_type": "markdown",
   "id": "26d22b06-ea54-4ac8-bfa4-24a0aa0527d0",
   "metadata": {},
   "source": [
    "### 1) Preparación de datos"
   ]
  },
  {
   "cell_type": "markdown",
   "id": "4cd8cfba-57f9-4a8d-8714-da312426c532",
   "metadata": {},
   "source": [
    "Como lo que se quiere es predecir el precio `Adj Close` en base a valores del pasado, se trabaja sobre los precios del activo y no sobre el espacio de retornos (pct_change)."
   ]
  },
  {
   "cell_type": "code",
   "execution_count": null,
   "id": "8cfde77b-c5dc-4950-890d-f28d9b3f9664",
   "metadata": {
    "tags": []
   },
   "outputs": [],
   "source": [
    "prices = df[['Adj Close']]\n",
    "# prices = prices.asfreq(freq ='D', fill_value = .0) # Ver si esto es necesario o no. Rellena valores faltantes (fines de semana) con 0.\n",
    "\n",
    "prices.reset_index(level='Date', inplace=True)\n",
    "prices.set_index('Date')\n",
    "\n",
    "prices.head(10)"
   ]
  },
  {
   "cell_type": "markdown",
   "id": "07b385db-e973-4bb6-8323-7cc1ca426795",
   "metadata": {},
   "source": [
    "### 2) Chequeo rápido de autocorrelación"
   ]
  },
  {
   "cell_type": "markdown",
   "id": "15cbfbb2-ed1c-48c6-a129-94e26d524937",
   "metadata": {},
   "source": [
    "Hay una verificación visual rápida que podemos hacer para ver si hay una autocorrelación en nuestro conjunto de datos de series de tiempo.\n",
    "\n",
    "Podemos graficar la observación en el paso de tiempo anterior (t-1) con la observación en el siguiente paso de tiempo (t + 1) como un diagrama de dispersión.\n",
    "\n",
    "Esto se puede hacer manualmente creando primero una versión de retraso (shift) del conjunto de datos de series de tiempo y usando una función de diagrama de dispersión incorporada en la biblioteca de Pandas.\n",
    "\n",
    "Pero hay una manera más fácil. Pandas proporciona una gráfica incorporada para hacer exactamente esto, llamada función lag_plot ()."
   ]
  },
  {
   "cell_type": "code",
   "execution_count": null,
   "id": "2376ae5d-b8c1-42aa-8b2c-66988b5ac309",
   "metadata": {},
   "outputs": [],
   "source": [
    "from pandas.plotting import lag_plot\n",
    "\n",
    "plt.figure(figsize=(8, 8))\n",
    "lag_plot(prices['Adj Close'])\n",
    "plt.show()"
   ]
  },
  {
   "cell_type": "markdown",
   "id": "93ca41f4-0820-4015-b5ef-9d7c07f72168",
   "metadata": {},
   "source": [
    "A simple vista puede observarse una correlación entre los datos. Numéricamente, esto puede cuantificarse mediante el coeficiente Pearson, que se determina a contninuación."
   ]
  },
  {
   "cell_type": "code",
   "execution_count": null,
   "id": "27af64f6-cbb4-4499-a333-059e76ab7d96",
   "metadata": {},
   "outputs": [],
   "source": [
    "corr_data = pd.concat([prices['Adj Close'].shift(1), prices['Adj Close']], axis=1)\n",
    "corr_data.columns = ['t-1', 't+1']\n",
    "result = corr_data.corr()\n",
    "print(result)"
   ]
  },
  {
   "cell_type": "markdown",
   "id": "cf74daf3-5fd7-49fc-9a0d-75cd1021cb9c",
   "metadata": {},
   "source": [
    "Se observa una alta correlación positiva (0.999)"
   ]
  },
  {
   "cell_type": "markdown",
   "id": "c42917c9-0104-4c6f-8bba-af28e018cf0b",
   "metadata": {},
   "source": [
    "### 3) Modelo"
   ]
  },
  {
   "cell_type": "markdown",
   "id": "ccef55eb-9849-4c62-b706-31299293d835",
   "metadata": {},
   "source": [
    "### Separación de conjuntos train y test"
   ]
  },
  {
   "cell_type": "code",
   "execution_count": null,
   "id": "e8861a97-4198-486e-8ff8-99a5560b5c6b",
   "metadata": {},
   "outputs": [],
   "source": [
    "print('Fecha máxima y mínima:')\n",
    "prices.Date.min(), prices.Date.max()"
   ]
  },
  {
   "cell_type": "code",
   "execution_count": null,
   "id": "64facafe-87cd-4321-99ad-bcc422f93c99",
   "metadata": {},
   "outputs": [],
   "source": [
    "print('Cantidad de días:' , prices.shape[0])"
   ]
  },
  {
   "cell_type": "code",
   "execution_count": null,
   "id": "8730464d-761f-44ee-a1f2-a2bede3b52e4",
   "metadata": {},
   "outputs": [],
   "source": [
    "# train: n días antes del conjunto train separado en una fecha fijada\n",
    "# test: n días posteriores del conjunto test separado en la misma fecha fijada\n",
    "\n",
    "date_split = \"2020-01-01\" # ingresar fecha de separación\n",
    "n_back = 15 # días atrás para definir fecha de inicio de data_train (no es la cantidad de datos)\n",
    "n_forward = 7 # días adelante para definir fecha de fin data_test (no es la cantidad de datos)\n",
    "\n",
    "data_train = prices.loc[(prices.Date <= str(date_split))]\n",
    "data_test = prices.loc[(prices.Date > str(date_split))]\n",
    "\n",
    "limit_train_date = (pd.to_datetime(data_train.Date).max()-timedelta(days=n_back)).date()\n",
    "limit_test_date = (pd.to_datetime(data_test.Date).min()+timedelta(days=n_forward)).date()\n",
    "print(limit_train_date, limit_test_date)\n",
    "\n",
    "# Redefino data_train y data_test\n",
    "data_train = data_train.loc[(data_train.Date > str(limit_train_date)) & (data_train.Date <= str(date_split))]\n",
    "data_test = data_test.loc[(data_test.Date > str(date_split)) & (data_test.Date <= str(limit_test_date))]\n",
    "\n",
    "print('Tamaños data_test:', data_train.shape[0], ', data_val:' , data_test.shape[0])\n",
    "data_train.head()"
   ]
  },
  {
   "cell_type": "markdown",
   "id": "cfc9fe21-5786-4ebf-9bf7-635064d9309b",
   "metadata": {},
   "source": [
    "Se observa que asignar un número muy grande a `n_back` genera overfitting en el modelo y la predicción tiene mucho error. El orden de `n_back` debe ser similar al valor de `n_forward`."
   ]
  },
  {
   "cell_type": "markdown",
   "id": "c93a092e-d725-4ce4-98a8-4dcaf745993a",
   "metadata": {},
   "source": [
    "### Entrenamiento"
   ]
  },
  {
   "cell_type": "code",
   "execution_count": null,
   "id": "0912f3b2-c310-4141-8c73-f8e0da43d343",
   "metadata": {},
   "outputs": [],
   "source": [
    "# https://www.statsmodels.org/stable/generated/statsmodels.tsa.ar_model.AutoReg.html\n",
    "\n",
    "from statsmodels.tsa.ar_model import AutoReg\n",
    "\n",
    "values_train = data_train['Adj Close'].values\n",
    "values_test = data_test['Adj Close'].values\n",
    "\n",
    "n_lags = 3 # CONSULTAR QUÉ ES ESTE PARÁMETRO\n",
    "\n",
    "model = AutoReg(values_train, lags=n_lags, old_names=False)\n",
    "model_fit = model.fit()\n",
    "# print(model_fit.summary())"
   ]
  },
  {
   "cell_type": "code",
   "execution_count": null,
   "id": "ae12d356-f43f-4443-8bfd-a31624860368",
   "metadata": {},
   "outputs": [],
   "source": [
    "print('Coefficients: %s' % model_fit.params)"
   ]
  },
  {
   "cell_type": "markdown",
   "id": "1d66f14e-03ad-4e1a-95ec-fb9baac37132",
   "metadata": {},
   "source": [
    "### Predicción"
   ]
  },
  {
   "cell_type": "code",
   "execution_count": null,
   "id": "1c5d577a-8029-45bb-b17a-3e86d41e8b83",
   "metadata": {},
   "outputs": [],
   "source": [
    "from sklearn.metrics import mean_squared_error\n",
    "from math import sqrt\n",
    "\n",
    "predictions = model_fit.predict(start=len(values_train), end=len(values_train)+len(values_test)-1, dynamic=False)\n",
    "\n",
    "for i in range(len(predictions)):\n",
    "    print('predicted=%f, expected=%f' % (predictions[i], values_test[i]))\n",
    "\n",
    "rmse = sqrt(mean_squared_error(values_test, predictions))\n",
    "\n",
    "print('Test RMSE: %.3f' % rmse)"
   ]
  },
  {
   "cell_type": "markdown",
   "id": "ca9a1021-0702-405a-9a17-8599a36c8602",
   "metadata": {},
   "source": [
    "### 4) Graficación"
   ]
  },
  {
   "cell_type": "code",
   "execution_count": null,
   "id": "2ea9d072-0705-4ddf-b376-31635039d84f",
   "metadata": {},
   "outputs": [],
   "source": [
    "plt.plot(data_test.Date, values_test)\n",
    "plt.plot(data_test.Date, predictions, color='red')\n",
    "plt.xlabel(\"days_predicted\")\n",
    "plt.ylabel(\"Adj Close\")\n",
    "plt.show()"
   ]
  },
  {
   "cell_type": "code",
   "execution_count": null,
   "id": "215bf8d1-85f4-4172-84ea-bf0b60db8b0e",
   "metadata": {},
   "outputs": [],
   "source": [
    "# Diagnóstico\n",
    "\n",
    "fig = plt.figure(figsize=(16,9))\n",
    "fig = model_fit.plot_diagnostics(fig=fig, lags=n_lags)"
   ]
  },
  {
   "cell_type": "markdown",
   "id": "300abf88-2ef2-4964-83e9-ea7d896a2cbd",
   "metadata": {},
   "source": [
    "### 5) PENDIENTE: ARMAR FUNCIÓN QUE HAGA TODO ESTE PROCESO"
   ]
  },
  {
   "cell_type": "markdown",
   "id": "beginning-repository",
   "metadata": {},
   "source": [
    "### Árboles de Decisión para predecir suba o baja.\n",
    "\n",
    "Venimos trabajando los precios con valores continuos, pero otra forma de verlos podría ser convirtiendolos en, por ejemplo, -1 y 1 para saber si el precio está en suba o en baja. De esta forma obtenemos un problema de clasificación que nos permite mirar los datos desde otra perspectiva.\n",
    "\n",
    "- Etiqueten los datos con 1 si [pct_change](https://pandas.pydata.org/docs/reference/api/pandas.DataFrame.pct_change.html) es mayor a cero y 0, -1 si no.\n",
    "- Entrenen un árbol de decisión que prediga si el valor de un activo va a subir o bajar.\n",
    "- Reporten las siguientes métricas sobre el modelo resultante.\n",
    "\n",
    "    - Accuracy\n",
    "    - Precision\n",
    "    - Recall\n",
    "    - F1\n",
    "    - matriz de confusión"
   ]
  },
  {
   "cell_type": "markdown",
   "id": "d41abd10-31eb-4948-b0ff-fecf5d181a59",
   "metadata": {},
   "source": [
    "### 0) Importación de datos"
   ]
  },
  {
   "cell_type": "code",
   "execution_count": null,
   "id": "3e419a94-b45c-409e-afed-a6af697f9060",
   "metadata": {
    "tags": []
   },
   "outputs": [],
   "source": [
    "yf.pdr_override()\n",
    "\n",
    "start_date = \"2000-01-01\"\n",
    "end_date = \"2020-12-31\"\n",
    "\n",
    "df_ko = pdr.get_data_yahoo(\"KO\", start=start_date, end=end_date)"
   ]
  },
  {
   "cell_type": "markdown",
   "id": "6b6ffaf4-67fd-4930-8e6c-260022a967e5",
   "metadata": {},
   "source": [
    "### 1) Preparación de datos"
   ]
  },
  {
   "cell_type": "code",
   "execution_count": null,
   "id": "bf8445a6-2008-40d3-876b-70071938973e",
   "metadata": {
    "tags": []
   },
   "outputs": [],
   "source": [
    "# Retornos unitarios en 'Adj Close'\n",
    "df_ko['returns'] = df_ko['Adj Close'].pct_change().shift(-1)\n",
    "df_ko.head(3)"
   ]
  },
  {
   "cell_type": "code",
   "execution_count": null,
   "id": "301a83b8-59f0-42bf-a1bf-65edaa85450d",
   "metadata": {
    "tags": []
   },
   "outputs": [],
   "source": [
    "df_ko.isna().sum()"
   ]
  },
  {
   "cell_type": "code",
   "execution_count": null,
   "id": "0f8ba7c5-fe9f-49a9-ad14-d4da14d33dbc",
   "metadata": {
    "tags": []
   },
   "outputs": [],
   "source": [
    "# Etiquetado\n",
    "df_ko['target'] = df_ko['returns'].apply(lambda x: 0 if x <= 0 else 1)\n",
    "df_ko"
   ]
  },
  {
   "cell_type": "code",
   "execution_count": null,
   "id": "ad99205d-436f-47d6-b28a-d9c636010ca2",
   "metadata": {},
   "outputs": [],
   "source": [
    "df_ko['target'].value_counts()"
   ]
  },
  {
   "cell_type": "code",
   "execution_count": null,
   "id": "9d2933f8-233d-4fae-bd19-71b7c494c871",
   "metadata": {},
   "outputs": [],
   "source": [
    "# Normalización: divido todos los valores por el primer valor de primera fila\n",
    "#data.loc[:] = data.loc[:].div(df.iloc[0][:])\n",
    "#data.head()"
   ]
  },
  {
   "cell_type": "markdown",
   "id": "6025650b-79e4-4381-a4ad-aff97d4cfbc8",
   "metadata": {},
   "source": [
    "### 2) Modelo"
   ]
  },
  {
   "cell_type": "code",
   "execution_count": null,
   "id": "7bec4054-a3d2-4569-8c07-b1d8a2a3bf96",
   "metadata": {},
   "outputs": [],
   "source": [
    "# TimeSeriesSplit\n",
    "X_ko = df_ko[['Open', 'High', 'Low', 'Close', 'Adj Close', 'Volume']]\n",
    "y_ko = df_ko['target']\n",
    "\n",
    "\n",
    "tscv = TimeSeriesSplit(n_splits=2)\n",
    "# print(tscv) # TimeSeriesSplit(gap=0, max_train_size=None, n_splits=5, test_size=None)\n",
    "\n",
    "for fold, (train_index, test_index) in enumerate(tscv.split(X_ko)):\n",
    "    print(\"Fold: {}\".format(fold))\n",
    "    print(\"TRAIN indices:\", train_index, \"\\n\", \"TEST indices:\", test_index)\n",
    "    print(\"\\n\")\n",
    "    X_train_ko, X_test_ko = X_ko.iloc[train_index], X_ko.iloc[test_index]\n",
    "    y_train_ko, y_test_ko = y_ko.iloc[train_index], y_ko.iloc[test_index]\n",
    "    # entrenar el modelo\n",
    "    clf = DecisionTreeClassifier(random_state=100)\n",
    "    clf.fit(X_train_ko, y_train_ko)\n",
    "    # predicción\n",
    "    y_train_pred = clf.predict(X_train_ko)\n",
    "    y_test_pred = clf.predict(X_test_ko)\n",
    "    # Evaluar\n",
    "    print(\"Reporte de train\")\n",
    "    print(classification_report(y_train_ko, y_train_pred))\n",
    "    print(\"Reporte de test\")\n",
    "    print(classification_report(y_test_ko, y_test_pred))\n",
    "    # Matriz de confusión\n",
    "    cm=confusion_matrix(y_test_ko, y_test_pred)\n",
    "    print('matriz de confusion test')\n",
    "    print(cm)\n",
    "    print('matriz de confusion test')\n",
    "    plot_confusion_matrix(clf, X_test_ko, y_test_ko)"
   ]
  },
  {
   "cell_type": "markdown",
   "id": "530624e2-3e65-4d34-ba59-490b0e2c71e6",
   "metadata": {},
   "source": [
    "Label:\n",
    "\n",
    "- 1 = etiqueta positiva\n",
    "- 0 = etiqueta negativa"
   ]
  },
  {
   "cell_type": "markdown",
   "id": "a00e772d-418e-4c7f-8d2c-142d550db48d",
   "metadata": {},
   "source": [
    "### Fold 0\n",
    "Según el modelo, 447 son etiquetas negativas y es correcto. (TP)\n",
    "\n",
    "385 son etiquets negativas que en realidad son positivas. (FP)\n",
    "\n",
    "468 son etiquetas positivas que en realidad son negativas. (FN)\n",
    "\n",
    "461 son etiquetas positivas y es correcto . (TN)\n",
    "\n",
    "\n",
    "\n",
    "### Fold 1\n",
    "Según el modelo, 517 son etiquetas negativas y es correcto. (TP)\n",
    "\n",
    "582 son etiquets negativas que en realidad son positivas. (FP)\n",
    "\n",
    "324 son etiquetas positivas que en realidad son negativas. (FN)\n",
    "\n",
    "338 son etiquetas positivas y es correcto . (TN)"
   ]
  },
  {
   "cell_type": "markdown",
   "id": "boolean-reward",
   "metadata": {},
   "source": [
    "El etiquetado de datos no suele ser trivial dado a que depende de la naturaleza de los datos. Posiblemente, el precio de un activo suba un poco pero luego continue su declive ¿Cuánto tiene que subir/bajar un precio para ser considerado \"suba\"/\"baja\"?. ¿Tiene sentido tomar \"periodos de suba/baja\" más grandes para predecir si el comportamiento del activo en el futuro?. ¿Se podría utilizar un enfoque más estadístico para elegir el etiquetado?.\n",
    "\n",
    "Aplicar GridSearch sobre los parámetros y luego para la mejor configuración encontrada, evaluar sobre el conjunto de entrenamiento y sobre el conjunto de evaluación, reportando:\n",
    "\n",
    "- Accuracy\n",
    "- Precision\n",
    "- Recall\n",
    "- F1\n",
    "- matriz de confusión"
   ]
  },
  {
   "cell_type": "code",
   "execution_count": null,
   "id": "1e4fe1ff-698f-4365-ae96-0c9db01ab020",
   "metadata": {},
   "outputs": [],
   "source": []
  }
 ],
 "metadata": {
  "kernelspec": {
   "display_name": "Python 3",
   "language": "python",
   "name": "python3"
  },
  "language_info": {
   "codemirror_mode": {
    "name": "ipython",
    "version": 3
   },
   "file_extension": ".py",
   "mimetype": "text/x-python",
   "name": "python",
   "nbconvert_exporter": "python",
   "pygments_lexer": "ipython3",
   "version": "3.8.8"
  }
 },
 "nbformat": 4,
 "nbformat_minor": 5
}
