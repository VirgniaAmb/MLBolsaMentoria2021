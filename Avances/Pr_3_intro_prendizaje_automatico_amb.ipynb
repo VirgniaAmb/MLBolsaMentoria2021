{
 "cells": [
  {
   "cell_type": "code",
   "execution_count": 1,
   "id": "c16c2162-457c-45b4-a416-b29e8ce26298",
   "metadata": {},
   "outputs": [],
   "source": [
    "import matplotlib.pyplot as plt\n",
    "import pandas as pd\n",
    "import numpy as np"
   ]
  },
  {
   "cell_type": "markdown",
   "id": "conventional-registrar",
   "metadata": {},
   "source": [
    "# Práctico 3 - Introducción al Aprendizaje Automático\n",
    "\n",
    "## Modelos de Precios de Mercado\n",
    "Queremos crear un modelo que prediga si el precio de una acción va a subir o bajar de acuerdo a información del pasado. Para ello implementaremos algunos modelos derivados de la teoria económica respecto de como valuar una activo con flujo de fondos inciertos.\n",
    "\n",
    "\n",
    "### Capital Asset Pricing Model (CAPM)\n",
    "\n",
    "El modelo de CAPM propuesto por William Sharpe a partir del desarrollo de Markowitz sobre carteras eficientes, busca predecir el retorno de un activo en función del comportamiento global del mercado, y de la relación del activo puntual con el mercado. \n",
    "\n",
    "Según este modelo, que se puede expresar de la siguiente manera: \n",
    "\n",
    "$$\n",
    "E(r_i) = r_f + \\beta  [ E(r_m) - r_f ] \n",
    "$$\n",
    "\n",
    "El retorno esperado del activo i, es igual al retorno libre de riesgo (o tasa libre de riesgo), más el exceso de retorno esperado de mercado (es decir lo que se espera que rinda el mercado por sobre la tasa libre de riesgo) escalado por un coeficiente beta. Este coeficiente beta es el conciente entre la covarianza del activo con el mercado sobre la varianza del mercado, y se interpreta como un multiplicador de riesgo de mercado.\n",
    "\n",
    "Pueden ver una explicación completa en: https://economipedia.com/definiciones/modelo-valoracion-activos-financieros-capm.html\n",
    "\n",
    "Adicionalmente, se puede agregar un término independiente como ordenada al origen alfa, que represanta una ganancia extraordinaria no explicada por la relacion con de la acción con el mercado sino por factores extraordinarios o arbitrages en caso de estrategias. De allí el famoso \"buscar alfa\" siendo una directriz de todos los portafolios managers. \n",
    "\n",
    "$$\n",
    "E(r_i) = \\alpha + r_f + \\beta  [ E(r_m) - r_f ]\n",
    "$$\n",
    "\n",
    "Para realizar este ejercicio, deberán descargar el precio de una acción y del mercado asociado (por ejemplo GOOG y NASDAQ). En ambos casos tomar los retornos y tomar una tasa libre de riesgo. A continuación, deberán probar varias regresiones para comprobar el beta, y examinar si el agregado de una ordenada al origen aporta a los resultados. La idea es que seleccionen varias acciones para modelarlo con diferentes activos. \n",
    "\n",
    "Una vez que lo hayan hecho, adionalmente responder las siguientes preguntas:\n",
    "\n",
    "1. ¿Es fácil encontrar $\\alpha$ distinto de cero?\n",
    "\n",
    "2. ¿Qué interpretación le podemos dar a $\\beta$?\n",
    "\n",
    "3. ¿En qué momento nos gustaría buscar activos con $\\beta$ > 1 y $\\beta$ < 1? ¿Qué implica tener un $\\beta$ < 0?\n",
    "\n"
   ]
  },
  {
   "cell_type": "code",
   "execution_count": 16,
   "id": "chinese-thirty",
   "metadata": {},
   "outputs": [
    {
     "name": "stdout",
     "output_type": "stream",
     "text": [
      "[*********************100%***********************]  2 of 2 completed\n",
      "[*********************100%***********************]  2 of 2 completed\n"
     ]
    }
   ],
   "source": [
    "from pandas_datareader import data as pdr\n",
    "\n",
    "import yfinance as yf\n",
    "yf.pdr_override() # <== that's all it takes :-)\n",
    "\n",
    "# download dataframe\n",
    "data_1 = pdr.get_data_yahoo(\"NDAQ GOOG\", start=\"2000-01-01\", end=\"2021-07-31\")\n",
    "data_2 = pdr.get_data_yahoo(\"KO NYA\", start=\"2000-01-01\", end=\"2021-07-31\")"
   ]
  },
  {
   "cell_type": "code",
   "execution_count": 17,
   "id": "5ebffe10-6cd7-4df1-ada6-4b9db6d68e3f",
   "metadata": {},
   "outputs": [],
   "source": [
    "data_respaldo_1 = data_1\n",
    "data_respaldo_2 = data_2\n",
    "\n",
    "# Reseteo MultiIndex y renombro columnas\n",
    "data_1 = data_1.reset_index(level='Date') # Reseteo MultiIndex (Date en este caso y la guardaré como columna)\n",
    "data_2 = data_2.reset_index(level='Date')"
   ]
  },
  {
   "cell_type": "code",
   "execution_count": 18,
   "id": "61633b16-62aa-454d-8657-f4c17cf3b53d",
   "metadata": {},
   "outputs": [
    {
     "data": {
      "text/html": [
       "<div>\n",
       "<style scoped>\n",
       "    .dataframe tbody tr th:only-of-type {\n",
       "        vertical-align: middle;\n",
       "    }\n",
       "\n",
       "    .dataframe tbody tr th {\n",
       "        vertical-align: top;\n",
       "    }\n",
       "\n",
       "    .dataframe thead tr th {\n",
       "        text-align: left;\n",
       "    }\n",
       "</style>\n",
       "<table border=\"1\" class=\"dataframe\">\n",
       "  <thead>\n",
       "    <tr>\n",
       "      <th></th>\n",
       "      <th>Date</th>\n",
       "      <th colspan=\"2\" halign=\"left\">Adj Close</th>\n",
       "      <th colspan=\"2\" halign=\"left\">Close</th>\n",
       "      <th colspan=\"2\" halign=\"left\">High</th>\n",
       "      <th colspan=\"2\" halign=\"left\">Low</th>\n",
       "      <th colspan=\"2\" halign=\"left\">Open</th>\n",
       "      <th colspan=\"2\" halign=\"left\">Volume</th>\n",
       "    </tr>\n",
       "    <tr>\n",
       "      <th></th>\n",
       "      <th></th>\n",
       "      <th>GOOG</th>\n",
       "      <th>NDAQ</th>\n",
       "      <th>GOOG</th>\n",
       "      <th>NDAQ</th>\n",
       "      <th>GOOG</th>\n",
       "      <th>NDAQ</th>\n",
       "      <th>GOOG</th>\n",
       "      <th>NDAQ</th>\n",
       "      <th>GOOG</th>\n",
       "      <th>NDAQ</th>\n",
       "      <th>GOOG</th>\n",
       "      <th>NDAQ</th>\n",
       "    </tr>\n",
       "  </thead>\n",
       "  <tbody>\n",
       "    <tr>\n",
       "      <th>0</th>\n",
       "      <td>2002-07-01</td>\n",
       "      <td>NaN</td>\n",
       "      <td>12.815305</td>\n",
       "      <td>NaN</td>\n",
       "      <td>15.00</td>\n",
       "      <td>NaN</td>\n",
       "      <td>15.0</td>\n",
       "      <td>NaN</td>\n",
       "      <td>15.0</td>\n",
       "      <td>NaN</td>\n",
       "      <td>15.0</td>\n",
       "      <td>NaN</td>\n",
       "      <td>1300</td>\n",
       "    </tr>\n",
       "    <tr>\n",
       "      <th>1</th>\n",
       "      <td>2002-07-02</td>\n",
       "      <td>NaN</td>\n",
       "      <td>12.926373</td>\n",
       "      <td>NaN</td>\n",
       "      <td>15.13</td>\n",
       "      <td>NaN</td>\n",
       "      <td>16.5</td>\n",
       "      <td>NaN</td>\n",
       "      <td>15.0</td>\n",
       "      <td>NaN</td>\n",
       "      <td>15.5</td>\n",
       "      <td>NaN</td>\n",
       "      <td>7000</td>\n",
       "    </tr>\n",
       "    <tr>\n",
       "      <th>2</th>\n",
       "      <td>2002-07-03</td>\n",
       "      <td>NaN</td>\n",
       "      <td>12.815305</td>\n",
       "      <td>NaN</td>\n",
       "      <td>15.00</td>\n",
       "      <td>NaN</td>\n",
       "      <td>16.0</td>\n",
       "      <td>NaN</td>\n",
       "      <td>14.0</td>\n",
       "      <td>NaN</td>\n",
       "      <td>14.0</td>\n",
       "      <td>NaN</td>\n",
       "      <td>10200</td>\n",
       "    </tr>\n",
       "    <tr>\n",
       "      <th>3</th>\n",
       "      <td>2002-07-05</td>\n",
       "      <td>NaN</td>\n",
       "      <td>12.815305</td>\n",
       "      <td>NaN</td>\n",
       "      <td>15.00</td>\n",
       "      <td>NaN</td>\n",
       "      <td>15.0</td>\n",
       "      <td>NaN</td>\n",
       "      <td>15.0</td>\n",
       "      <td>NaN</td>\n",
       "      <td>15.0</td>\n",
       "      <td>NaN</td>\n",
       "      <td>500</td>\n",
       "    </tr>\n",
       "    <tr>\n",
       "      <th>4</th>\n",
       "      <td>2002-07-08</td>\n",
       "      <td>NaN</td>\n",
       "      <td>11.960951</td>\n",
       "      <td>NaN</td>\n",
       "      <td>14.00</td>\n",
       "      <td>NaN</td>\n",
       "      <td>14.0</td>\n",
       "      <td>NaN</td>\n",
       "      <td>14.0</td>\n",
       "      <td>NaN</td>\n",
       "      <td>14.0</td>\n",
       "      <td>NaN</td>\n",
       "      <td>300</td>\n",
       "    </tr>\n",
       "  </tbody>\n",
       "</table>\n",
       "</div>"
      ],
      "text/plain": [
       "        Date Adj Close            Close        High        Low       Open  \\\n",
       "                  GOOG       NDAQ  GOOG   NDAQ GOOG  NDAQ GOOG  NDAQ GOOG   \n",
       "0 2002-07-01       NaN  12.815305   NaN  15.00  NaN  15.0  NaN  15.0  NaN   \n",
       "1 2002-07-02       NaN  12.926373   NaN  15.13  NaN  16.5  NaN  15.0  NaN   \n",
       "2 2002-07-03       NaN  12.815305   NaN  15.00  NaN  16.0  NaN  14.0  NaN   \n",
       "3 2002-07-05       NaN  12.815305   NaN  15.00  NaN  15.0  NaN  15.0  NaN   \n",
       "4 2002-07-08       NaN  11.960951   NaN  14.00  NaN  14.0  NaN  14.0  NaN   \n",
       "\n",
       "        Volume         \n",
       "   NDAQ   GOOG   NDAQ  \n",
       "0  15.0    NaN   1300  \n",
       "1  15.5    NaN   7000  \n",
       "2  14.0    NaN  10200  \n",
       "3  15.0    NaN    500  \n",
       "4  14.0    NaN    300  "
      ]
     },
     "execution_count": 18,
     "metadata": {},
     "output_type": "execute_result"
    }
   ],
   "source": [
    "data_1.head()"
   ]
  },
  {
   "cell_type": "code",
   "execution_count": 5,
   "id": "da7fa988-5ee2-41d4-9f6d-d15d47703610",
   "metadata": {
    "tags": []
   },
   "outputs": [],
   "source": [
    "# Retornos\n",
    "#variation_close_nd = data_nd.Close.pct_change()*100 \n",
    "#variation_close_go = data_go.Close.pct_change()*100\n",
    "#variation_close_ko = data_ko.Close.pct_change()*100\n",
    "#variation_close_ny = data_ny.Close.pct_change()*100"
   ]
  },
  {
   "cell_type": "markdown",
   "id": "8dcd7ab1-de9f-417a-aa28-4f41130d29c8",
   "metadata": {},
   "source": [
    "## consultar si se hace el pct change sobre close o adj close"
   ]
  },
  {
   "cell_type": "code",
   "execution_count": 24,
   "id": "71b16f69-b81d-41f7-9e36-0276cbfebb0c",
   "metadata": {},
   "outputs": [
    {
     "data": {
      "text/html": [
       "<div>\n",
       "<style scoped>\n",
       "    .dataframe tbody tr th:only-of-type {\n",
       "        vertical-align: middle;\n",
       "    }\n",
       "\n",
       "    .dataframe tbody tr th {\n",
       "        vertical-align: top;\n",
       "    }\n",
       "\n",
       "    .dataframe thead th {\n",
       "        text-align: right;\n",
       "    }\n",
       "</style>\n",
       "<table border=\"1\" class=\"dataframe\">\n",
       "  <thead>\n",
       "    <tr style=\"text-align: right;\">\n",
       "      <th></th>\n",
       "      <th>GOOG</th>\n",
       "      <th>NDAQ</th>\n",
       "    </tr>\n",
       "  </thead>\n",
       "  <tbody>\n",
       "    <tr>\n",
       "      <th>GOOG</th>\n",
       "      <td>0.091310</td>\n",
       "      <td>0.048305</td>\n",
       "    </tr>\n",
       "    <tr>\n",
       "      <th>NDAQ</th>\n",
       "      <td>0.048305</td>\n",
       "      <td>0.154627</td>\n",
       "    </tr>\n",
       "  </tbody>\n",
       "</table>\n",
       "</div>"
      ],
      "text/plain": [
       "          GOOG      NDAQ\n",
       "GOOG  0.091310  0.048305\n",
       "NDAQ  0.048305  0.154627"
      ]
     },
     "execution_count": 24,
     "metadata": {},
     "output_type": "execute_result"
    }
   ],
   "source": [
    "#  Calculamos los retornos logarítmicos y sacamos la covarianza anualizada entre los dos.\n",
    "log_returns_1 = np.log(1 + data_1.Close.pct_change())\n",
    "cov_1 = log_returns_1.cov()*252 # 252 dias habiles del año\n",
    "cov_1"
   ]
  },
  {
   "cell_type": "code",
   "execution_count": 23,
   "id": "e01d15f4-38c2-4ad0-a85b-070c216c4d81",
   "metadata": {},
   "outputs": [
    {
     "data": {
      "text/plain": [
       "0.3123950394067975"
      ]
     },
     "execution_count": 23,
     "metadata": {},
     "output_type": "execute_result"
    }
   ],
   "source": [
    "# Fijamos el dato 0,048305 con iloc[0,1], sacamos la varianza .var() anualizada del NDAQ y con esto tendremos las Betas.\n",
    "cov_with_market_1 = cov_1.iloc[0,1]\n",
    "market_var_1 = log_returns_1['NDAQ'].var()*252\n",
    "stock_beta_1 = cov_with_market_1 / market_var_1\n",
    "stock_beta_1"
   ]
  },
  {
   "cell_type": "code",
   "execution_count": 27,
   "id": "b5dc69e2-609a-4772-b243-f2275a9dd787",
   "metadata": {},
   "outputs": [],
   "source": [
    "# Definimos un riskfree, siendo este el rendimiento del bono a 10 años estadounidense, a precio de cierre de ayer de 0,95%\n",
    "\n",
    "# Para el riskpremium calculamos la fórmula: (Rm - Rf) anualizando la media de los retornos del NDAQ menos el riskfree.\n",
    "\n",
    "riskfree_1 = 0.0095\n",
    "riskpremium_1 = (log_returns_1['NDAQ'].mean()*252) - riskfree_1"
   ]
  },
  {
   "cell_type": "code",
   "execution_count": 28,
   "id": "f78829fb-e8c2-4feb-ae61-c53dfcf70103",
   "metadata": {},
   "outputs": [],
   "source": [
    "# Generamos la variable de la fórmula del CAPM, stock_capm_return, y otra para el ratio Sharpe, \n",
    "# que mide el grado de rentabilidad ajustado por el riesgo, cuanto mayor sea éste mejor.\n",
    "\n",
    "stock_capm_return_1 = riskfree_1 + stock_beta_1 * riskpremium_1\n",
    "sharpe_stock_1 = (stock_capm_return_1 - riskfree_1) /(log_returns_1['GOOG'].std()*252**0.5)"
   ]
  },
  {
   "cell_type": "code",
   "execution_count": 29,
   "id": "e23cac01-db6b-4485-817e-541e7129f69f",
   "metadata": {},
   "outputs": [
    {
     "name": "stdout",
     "output_type": "stream",
     "text": [
      "La Beta de ['GOOG', 'NDAQ'] es de: 0.312\n",
      "El retorno CAPM de ['GOOG', 'NDAQ'] es de: 4.787%\n",
      "El Ratio Sharpe de ['GOOG', 'NDAQ'] es de: 0.127\n"
     ]
    }
   ],
   "source": [
    "tickers = ['GOOG', 'NDAQ']\n",
    "print(\"La Beta de \" + str(tickers) + \" es de: \" + str(round(stock_beta_1,3)))\n",
    "print(\"El retorno CAPM de \" + str(tickers) + \" es de: \" + str(round(stock_capm_return_1*100,3))+\"%\")\n",
    "print(\"El Ratio Sharpe de \" + str(tickers) + \" es de: \" + str(round(sharpe_stock_1,3)))"
   ]
  },
  {
   "cell_type": "markdown",
   "id": "e05da1d7-44e9-4015-ae51-41209761ebf3",
   "metadata": {},
   "source": [
    "- ¿Es fácil encontrar α distinto de cero?\n",
    "\n",
    "- ¿Qué interpretación le podemos dar a β ?\n",
    "\n",
    "Beta mide el riesgo sistematico, aquel que viene dado por fluctuaciones del mercado, es decir, por las variables macroeconómicas, y que es inherente al mercado, siendo éste incapaz de eliminarse por completo.\n",
    "\n",
    "- ¿En qué momento nos gustaría buscar activos con β > 1 y β < 1? ¿Qué implica tener un β < 0?\n",
    "\n",
    "Beta superior a uno significa que el activo o cartera se mueve en mayor proporción que el benchmark, tanto al alza como a la baja.\n",
    "\n",
    "Si la beta se encuentra entre cero y uno, se trataría de un activo defensivo ya que es menos arriesgado que el mercado. Cuando el mercado sube, el activo lo hace con menor intensidad, y viceversa.\n",
    "\n",
    "Que la beta sea igual a cero quiere decir que la covarianza del activo con respecto al mercado es cero. Esto ocurriría con el activo libre de riesgo, por ejemplo. "
   ]
  },
  {
   "cell_type": "markdown",
   "id": "novel-double",
   "metadata": {},
   "source": [
    "### Modelos Autorregresivos para predecir precios.\n",
    "\n",
    "Para esta parte del práctico, nos gustaría utilizar precios del pasado para poder estimar cuál va a ser el precio de una acción más adelante. Las regresiones que vemos en la introducción al aprendizaje automático no son las mismas que deben usarse cuando estamos trabajando con precios de mercado, ya que estos datos son series de tiempo. Para trabajar con este tipo de datos, es necesario generar **modelos autorregresivos**.\n",
    "\n",
    "Si suponemos que $y_t$ es el precio de nuestra acción en el tiempo $t$, podemos generar el siguiente modelo autorregresivo:\n",
    "\n",
    "$$\n",
    "y_t = \\delta + \\phi_1 y_{t-1} + \\dots + \\phi_p y_{t-p} + \\epsilon_t\n",
    "$$\n",
    "\n",
    "Existen otras variables que podemos agregar (como estacionariedad o tendencias), pero para este práctico podemos usar solamente el modelo `AutoReg` de la librería StatsModels: https://www.statsmodels.org/stable/examples/notebooks/generated/autoregressions.html.\n",
    "\n",
    "El **ejercicio** para esta sección es crear una función que reciba 4 parámetros:\n",
    "- El *ticker* de un activo.\n",
    "- Una *fecha* a partir de la cual se van a querer predecir los precios del activo.\n",
    "- Un *número de días* hacia atrás que se van a usar para ajustar el modelo autorregresivo.\n",
    "- Un *número de días* hacia adelante para los cuales van a querer predecir el precio del activo utilizando el modelo entrenado.\n",
    "\n",
    "Esta función se debe encargar de buscar los precios del ticker, realizar el ajuste y predecir el precio de la acción hacia delante. Además, debe devolver el [error cuadrático medio](https://es.wikipedia.org/wiki/Error_cuadr%C3%A1tico_medio) de la predicción, comparado con los verdaderos precios del activo.\n",
    "\n",
    "¿Qué pasa si tratamos de predecir el precio del SPY el día antes del primer cisne negro de 2020 con un modelo que use 15 días hacia atrás?"
   ]
  },
  {
   "cell_type": "code",
   "execution_count": null,
   "id": "fabulous-empty",
   "metadata": {},
   "outputs": [],
   "source": []
  },
  {
   "cell_type": "markdown",
   "id": "beginning-repository",
   "metadata": {},
   "source": [
    "### Árboles de Decisión para predecir suba o baja.\n",
    "\n",
    "Venimos trabajando los precios con valores continuos, pero otra forma de verlos podría ser convirtiendolos en, por ejemplo, -1 y 1 para saber si el precio está en suba o en baja. De esta forma obtenemos un problema de clasificación que nos permite mirar los datos desde otra perspectiva.\n",
    "\n",
    "- Etiqueten los datos con 1 si [pct_change](https://pandas.pydata.org/docs/reference/api/pandas.DataFrame.pct_change.html) es mayor a cero y 0, -1 si no.\n",
    "- Entrenen un árbol de decisión que prediga si el valor de un activo va a subir o bajar.\n",
    "- Reporten las siguientes métricas sobre el modelo resultante.\n",
    "\n",
    "    - Accuracy\n",
    "    - Precision\n",
    "    - Recall\n",
    "    - F1\n",
    "    - matriz de confusión"
   ]
  },
  {
   "cell_type": "code",
   "execution_count": null,
   "id": "complicated-planet",
   "metadata": {},
   "outputs": [],
   "source": []
  },
  {
   "cell_type": "markdown",
   "id": "boolean-reward",
   "metadata": {},
   "source": [
    "El etiquetado de datos no suele ser trivial dado a que depende de la naturaleza de los datos. Posiblemente, el precio de un activo suba un poco pero luego continue su declive ¿Cuánto tiene que subir/bajar un precio para ser considerado \"suba\"/\"baja\"?. ¿Tiene sentido tomar \"periodos de suba/baja\" más grandes para predecir si el comportamiento del activo en el futuro?. ¿Se podría utilizar un enfoque más estadístico para elegir el etiquetado?.\n",
    "\n",
    "Aplicar GridSearch sobre los parámetros y luego para la mejor configuración encontrada, evaluar sobre el conjunto de entrenamiento y sobre el conjunto de evaluación, reportando:\n",
    "\n",
    "- Accuracy\n",
    "- Precision\n",
    "- Recall\n",
    "- F1\n",
    "- matriz de confusión"
   ]
  },
  {
   "cell_type": "code",
   "execution_count": null,
   "id": "forbidden-shoot",
   "metadata": {},
   "outputs": [],
   "source": []
  }
 ],
 "metadata": {
  "kernelspec": {
   "display_name": "Python 3",
   "language": "python",
   "name": "python3"
  },
  "language_info": {
   "codemirror_mode": {
    "name": "ipython",
    "version": 3
   },
   "file_extension": ".py",
   "mimetype": "text/x-python",
   "name": "python",
   "nbconvert_exporter": "python",
   "pygments_lexer": "ipython3",
   "version": "3.8.8"
  }
 },
 "nbformat": 4,
 "nbformat_minor": 5
}
